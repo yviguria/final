{
 "cells": [
  {
   "cell_type": "code",
   "execution_count": 1,
   "metadata": {},
   "outputs": [],
   "source": [
    "import pandas as pd\n",
    "import numpy as np\n",
    "from sklearn.metrics import confusion_matrix\n",
    "from sklearn.metrics import accuracy_score   \n",
    "from sklearn.metrics import accuracy_score\n",
    "import math\n",
    "from sklearn.decomposition import KernelPCA\n",
    "from sklearn.pipeline import Pipeline\n",
    "import seaborn as sns\n",
    "from sklearn.metrics import classification_report, confusion_matrix,roc_auc_score"
   ]
  },
  {
   "cell_type": "code",
   "execution_count": 2,
   "metadata": {},
   "outputs": [],
   "source": [
    "# df = pd.read_csv('raw_data.csv')\n",
    "# df_train = df.drop_duplicates(ignore_index = True) # droping duplicate rows if any\n",
    "# X_dat = df.to_numpy()\n",
    "# # X = np.delete(X, 0, 1)\n",
    "# np.random.shuffle(X_dat)\n",
    "# n = len(X_dat)\n",
    "# m = 0\n",
    "# for i in range(n):\n",
    "#     m = max(m, len(X_dat[i][1]))\n",
    "# X = np.ones((n, m + 1)) * -100\n",
    "# for i in range(n):\n",
    "#     str = X_dat[i][1]\n",
    "#     lab = X_dat[i][0]\n",
    "#     for j in range(len(str)):\n",
    "#         ch = ord(str[j])-64\n",
    "#         X[i][j] = ch\n",
    "#     X[i][-1] = lab\n",
    "# print(X)\n",
    "# # # np.random.shuffle(X)"
   ]
  },
  {
   "cell_type": "code",
   "execution_count": 2,
   "metadata": {},
   "outputs": [
    {
     "name": "stdout",
     "output_type": "stream",
     "text": [
      "(444, 53)\n",
      "324 120\n"
     ]
    }
   ],
   "source": [
    "df = pd.read_csv('fpocket_features_v3.csv')\n",
    "df_train = df.drop_duplicates(ignore_index = True) # droping duplicate rows if any\n",
    "X = df.to_numpy()\n",
    "y = []\n",
    "ones = 0\n",
    "for i in range(len(X)) : \n",
    "    y.append(X[i][-1])\n",
    "    if(X[i][-1] == 1) : ones += 1\n",
    "X = np.delete(X, -1, 1)\n",
    "print(np.shape(X))\n",
    "print(ones, len(X) - ones)\n",
    "# X = np.delete(X, 0, 1)\n"
   ]
  },
  {
   "cell_type": "code",
   "execution_count": 4,
   "metadata": {},
   "outputs": [],
   "source": [
    "# from imblearn.over_sampling import RandomOverSampler\n",
    "# oversample = RandomOverSampler(random_state = 101)\n",
    "# X, y = oversample.fit_resample(X, y)"
   ]
  },
  {
   "cell_type": "code",
   "execution_count": 5,
   "metadata": {},
   "outputs": [],
   "source": [
    "# from sklearn.preprocessing import OneHotEncoder\n",
    "# encoder = OneHotEncoder()\n",
    "# X = encoder.fit_transform(X)\n"
   ]
  },
  {
   "cell_type": "code",
   "execution_count": 6,
   "metadata": {},
   "outputs": [],
   "source": [
    "# df1 = pd.DataFrame(X)\n",
    "# corr_matrix = df1.corr().abs()\n",
    "# upper = corr_matrix.where(np.triu(np.ones(corr_matrix.shape), k=1).astype(np.bool))\n"
   ]
  },
  {
   "cell_type": "code",
   "execution_count": 7,
   "metadata": {},
   "outputs": [],
   "source": [
    "# to_drop = [column for column in upper.columns if any(upper[column] > 0.7)]\n",
    "# df1 = df1.drop(df1[to_drop], axis=1)\n",
    "# print(len(to_drop))\n",
    "# X = df1.to_numpy()"
   ]
  },
  {
   "cell_type": "code",
   "execution_count": 3,
   "metadata": {},
   "outputs": [],
   "source": [
    "from sklearn.model_selection import train_test_split\n",
    "X_train, X_test, y_train, y_test = train_test_split(X, y, test_size=0.2, random_state=80, shuffle = True)\n",
    "\n",
    "# np.random.shuffle(X)\n",
    "# X_train = X[0 : int(0.8 * len(X))]\n",
    "# X_test = X[int(0.8 * len(X)) : ]\n",
    "# y_train, y_test = [], []\n",
    "# for i in range(len(X_train)) : y_train.append(X_train[i][-1])\n",
    "# for i in range(len(X_test)) : y_test.append(X_test[i][-1])\n",
    "\n",
    "\n",
    "# y_train = np.array(y_train)\n",
    "# y_test = np.array(y_test)\n",
    "# X_train = np.delete(X_train, -1, 1)\n",
    "# X_test = np.delete(X_test, -1, 1)\n",
    "X_train = X_train.astype('float')\n",
    "X_test = X_test.astype('float')"
   ]
  },
  {
   "cell_type": "code",
   "execution_count": 4,
   "metadata": {},
   "outputs": [
    {
     "name": "stdout",
     "output_type": "stream",
     "text": [
      "516 258\n"
     ]
    }
   ],
   "source": [
    "from imblearn.over_sampling import SMOTE\n",
    "oversample = SMOTE(random_state = 12)\n",
    "X_train, y_train = oversample.fit_resample(X_train, y_train)\n",
    "print(len(y_train), y_train.count(0))"
   ]
  },
  {
   "cell_type": "code",
   "execution_count": 10,
   "metadata": {},
   "outputs": [
    {
     "name": "stdout",
     "output_type": "stream",
     "text": [
      "(516, 53) (516,) (89, 53) (89,)\n"
     ]
    }
   ],
   "source": [
    "print(np.shape(X_train), np.shape(y_train), np.shape(X_test), np.shape(y_test))"
   ]
  },
  {
   "cell_type": "code",
   "execution_count": 5,
   "metadata": {},
   "outputs": [],
   "source": [
    "from sklearn.preprocessing import StandardScaler\n",
    "scaler = StandardScaler()\n",
    "X_train = scaler.fit_transform(X_train)\n",
    "X_test = scaler.transform(X_test)"
   ]
  },
  {
   "cell_type": "code",
   "execution_count": 12,
   "metadata": {},
   "outputs": [],
   "source": [
    "# from sklearn.feature_selection import VarianceThreshold \n",
    "# sel = VarianceThreshold(1)\n",
    "# X_train = sel.fit_transform(X_train)\n",
    "# X_test = sel.transform(X_test)"
   ]
  },
  {
   "cell_type": "code",
   "execution_count": 13,
   "metadata": {},
   "outputs": [],
   "source": [
    "from sklearn.feature_selection import SelectKBest\n",
    "from sklearn.feature_selection import mutual_info_classif\n",
    "fs = SelectKBest(score_func=mutual_info_classif, k=40)\n",
    "X_train_pca = fs.fit_transform(X_train,y_train)\n",
    "X_test_pca = fs.transform(X_test)"
   ]
  },
  {
   "cell_type": "code",
   "execution_count": 14,
   "metadata": {},
   "outputs": [],
   "source": [
    "X_train_pca = X_train\n",
    "X_test_pca = X_test"
   ]
  },
  {
   "cell_type": "code",
   "execution_count": 6,
   "metadata": {},
   "outputs": [],
   "source": [
    "from sklearn.decomposition import TruncatedSVD\n",
    "svd = TruncatedSVD(n_components=40, random_state = 40)\n",
    "X_train_pca = svd.fit_transform(X_train)\n",
    "X_test_pca = svd.transform(X_test)\n"
   ]
  },
  {
   "cell_type": "code",
   "execution_count": 16,
   "metadata": {},
   "outputs": [],
   "source": [
    "# from sklearn.discriminant_analysis import LinearDiscriminantAnalysis as LDA\n",
    "# lda = LDA()\n",
    "# X_train_pca = lda.fit_transform(X_train_pca, y_train)\n",
    "# X_test_pca = lda.transform(X_test_pca)"
   ]
  },
  {
   "cell_type": "code",
   "execution_count": 17,
   "metadata": {},
   "outputs": [
    {
     "name": "stdout",
     "output_type": "stream",
     "text": [
      "(516, 30)\n"
     ]
    }
   ],
   "source": [
    "from sklearn.decomposition import PCA\n",
    "pca = PCA(n_components=30)\n",
    "X_train_pca = pca.fit_transform(X_train)\n",
    "X_test_pca = pca.transform(X_test)\n",
    "print(X_train_pca.shape)"
   ]
  },
  {
   "cell_type": "code",
   "execution_count": 18,
   "metadata": {},
   "outputs": [],
   "source": [
    "# X_train_pca = X_train\n",
    "# X_test_pca = X_test"
   ]
  },
  {
   "cell_type": "code",
   "execution_count": 9,
   "metadata": {},
   "outputs": [
    {
     "name": "stdout",
     "output_type": "stream",
     "text": [
      "0.8202247191011236\n"
     ]
    }
   ],
   "source": [
    "from sklearn.ensemble import RandomForestClassifier\n",
    "randomforest = RandomForestClassifier(random_state = 11, criterion='entropy')\n",
    "# randomforest = Pipeline([('pca', KernelPCA(n_components=32)), ('rf', RandomForestClassifier(criterion='entropy', random_state=0)) ])\n",
    "randomforest.fit(X_train_pca,y_train)\n",
    "\n",
    "# rand_pred1 = randomforest.predict_proba(X_test_pca)\n",
    "# rand_pred = []\n",
    "# for i in range(len(y_test)):\n",
    "#     if(rand_pred1[i][0] >= 0.5) : rand_pred.append(-1)\n",
    "#     else : rand_pred.append(1)\n",
    "# score = accuracy_score(rand_pred, y_test)\n",
    "# print(score)\n",
    "print(randomforest.score(X_test_pca,y_test))\n",
    "y_res1 = randomforest.predict(X_test_pca)"
   ]
  },
  {
   "cell_type": "code",
   "execution_count": 11,
   "metadata": {},
   "outputs": [
    {
     "name": "stdout",
     "output_type": "stream",
     "text": [
      "[[13 10]\n",
      " [ 3 63]]\n",
      "              precision    recall  f1-score   support\n",
      "\n",
      "         0.0       0.81      0.57      0.67        23\n",
      "         1.0       0.86      0.95      0.91        66\n",
      "\n",
      "    accuracy                           0.85        89\n",
      "   macro avg       0.84      0.76      0.79        89\n",
      "weighted avg       0.85      0.85      0.84        89\n",
      "\n"
     ]
    },
    {
     "name": "stderr",
     "output_type": "stream",
     "text": [
      "C:\\Users\\prash\\AppData\\Local\\Packages\\PythonSoftwareFoundation.Python.3.7_qbz5n2kfra8p0\\LocalCache\\local-packages\\Python37\\site-packages\\sklearn\\utils\\deprecation.py:87: FutureWarning: Function plot_roc_curve is deprecated; Function :func:`plot_roc_curve` is deprecated in 1.0 and will be removed in 1.2. Use one of the class methods: :meth:`sklearn.metric.RocCurveDisplay.from_predictions` or :meth:`sklearn.metric.RocCurveDisplay.from_estimator`.\n",
      "  warnings.warn(msg, category=FutureWarning)\n"
     ]
    },
    {
     "data": {
      "text/plain": [
       "<sklearn.metrics._plot.roc_curve.RocCurveDisplay at 0x14fe5e73208>"
      ]
     },
     "execution_count": 11,
     "metadata": {},
     "output_type": "execute_result"
    },
    {
     "data": {
      "image/png": "[encoded data removed]",
      "text/plain": [
       "<Figure size 432x288 with 2 Axes>"
      ]
     },
     "metadata": {
      "needs_background": "light"
     },
     "output_type": "display_data"
    },
    {
     "data": {
      "image/png": "[encoded data removed]",
      "text/plain": [
       "<Figure size 432x288 with 1 Axes>"
      ]
     },
     "metadata": {
      "needs_background": "light"
     },
     "output_type": "display_data"
    }
   ],
   "source": [
    "from sklearn.svm import SVC\n",
    "from sklearn import metrics\n",
    "# support vector machine\n",
    "# svc_model = SVC(random_state=0, gamma= 'scale', decision_function_shape='ovo', C = 3, probability=True)\n",
    "svc_model = SVC(random_state=0, gamma= 'auto', decision_function_shape='ovo', C = 1.5)\n",
    "svc_model.fit(X_train_pca,y_train)\n",
    "y_pred = svc_model.predict(X_test_pca)\n",
    "print(confusion_matrix(y_test, y_pred))\n",
    "svc_model.score(X_test_pca, y_test)\n",
    "s = sns.heatmap(confusion_matrix(y_test, y_pred), annot=True, annot_kws={\"size\": 14}, fmt='g', xticklabels=['Negative','Positive'],  yticklabels=['Negative','Positive'])\n",
    "        \n",
    "s.set(xlabel='Predicted Label', ylabel = 'True Label')\n",
    "print(classification_report(y_test, y_pred))\n",
    "metrics.plot_roc_curve(svc_model, X_test_pca, y_test)\n",
    "# y_res2 = svc_model.predict(X_test_pca)"
   ]
  },
  {
   "cell_type": "code",
   "execution_count": null,
   "metadata": {},
   "outputs": [
    {
     "name": "stdout",
     "output_type": "stream",
     "text": [
      "0.8539325842696629\n"
     ]
    }
   ],
   "source": [
    "from sklearn.pipeline import Pipeline\n",
    "from sklearn.svm import SVC\n",
    "from sklearn.decomposition import TruncatedSVD\n",
    "pipe1 = Pipeline([('scaler', StandardScaler()), ('svd', TruncatedSVD(n_components=40, random_state = 0)), ('svc', SVC(random_state=0, gamma= 'auto', decision_function_shape='ovo', C = 1.5)) ])\n",
    "pipe1.fit(X_train, y_train)\n",
    "print(pipe1.score(X_test, y_test))"
   ]
  },
  {
   "cell_type": "code",
   "execution_count": null,
   "metadata": {},
   "outputs": [
    {
     "name": "stdout",
     "output_type": "stream",
     "text": [
      "0.8539325842696629\n"
     ]
    }
   ],
   "source": [
    "from sklearn.pipeline import Pipeline\n",
    "from sklearn.svm import SVC\n",
    "from sklearn.decomposition import TruncatedSVD\n",
    "pipe1 = Pipeline([('scaler', StandardScaler()), ('svd', SelectKBest(score_func=mutual_info_classif, k=40)), ('svc', RandomForestClassifier(random_state = 11, criterion='entropy'))])\n",
    "pipe1.fit(X_train, y_train)\n",
    "\n",
    "print(pipe1.score(X_test, y_test))"
   ]
  },
  {
   "cell_type": "code",
   "execution_count": 17,
   "metadata": {},
   "outputs": [
    {
     "name": "stdout",
     "output_type": "stream",
     "text": [
      "f1 :  0.7227904288003444\n",
      "precision :  0.8243966474925377\n",
      "accuracy :  0.8108018386108273\n",
      "roc_auc :  0.8328084935897436\n"
     ]
    }
   ],
   "source": [
    "from imblearn.pipeline import Pipeline, make_pipeline\n",
    "from sklearn.preprocessing import StandardScaler\n",
    "from sklearn.feature_selection import SelectKBest\n",
    "from sklearn.feature_selection import mutual_info_classif\n",
    "from sklearn.model_selection import StratifiedKFold, cross_val_score\n",
    "from imblearn.over_sampling import SMOTE\n",
    "from xgboost import XGBClassifier\n",
    "\n",
    "imba_pipeline = make_pipeline(\n",
    "                            # SMOTE(random_state = 67),\n",
    "                            StandardScaler(),\n",
    "                            # RandomForestClassifier(random_state = 11, criterion='entropy'))\n",
    "                            # StandardScaler(),\n",
    "                            TruncatedSVD(n_components=45, random_state = 42),\n",
    "                            # XGBClassifier(random_state = 0))\n",
    "                            SVC(random_state=0, gamma= 'auto', decision_function_shape='ovo', C = 2))\n",
    "                            # GradientBoostingClassifier(random_state=1, loss='exponential'))\n",
    "kf = StratifiedKFold(n_splits=5,shuffle=True, random_state = 3)\n",
    "print(\"f1 : \", np.mean(cross_val_score(imba_pipeline, X, y, scoring='f1_macro', cv=kf)))\n",
    "print(\"precision : \", np.mean(cross_val_score(imba_pipeline, X, y, scoring='precision', cv=kf)))\n",
    "print(\"accuracy : \", np.mean(cross_val_score(imba_pipeline, X, y, scoring='accuracy', cv=kf)))\n",
    "print(\"roc_auc : \", np.mean(cross_val_score(imba_pipeline, X, y, scoring='roc_auc', cv=kf)))\n",
    "imba_pipeline.fit(X, y)\n",
    "\n",
    "\n",
    "\n",
    "import pickle\n",
    "# save_file = 'ML_Model.sav'\n",
    "# pickle.dump(imba_pipeline, open(save_file, 'wb'))\n"
   ]
  },
  {
   "cell_type": "code",
   "execution_count": null,
   "metadata": {},
   "outputs": [],
   "source": [
    "# from sklearn.pipeline import Pipeline\n",
    "# pipe2 = Pipeline([('scaler', StandardScaler(with_mean=False))])\n",
    "# pipe2.fit_transform(X_train, y_train)\n"
   ]
  },
  {
   "cell_type": "code",
   "execution_count": 24,
   "metadata": {},
   "outputs": [
    {
     "data": {
      "text/plain": [
       "0.7865168539325843"
      ]
     },
     "execution_count": 24,
     "metadata": {},
     "output_type": "execute_result"
    }
   ],
   "source": [
    "from sklearn.ensemble import GradientBoostingClassifier\n",
    "gbclassifier = GradientBoostingClassifier(random_state=0, loss='exponential')\n",
    "gbclassifier.fit(X_train_pca,y_train)\n",
    "gbclassifier.score(X_test_pca,y_test)"
   ]
  },
  {
   "cell_type": "code",
   "execution_count": 25,
   "metadata": {},
   "outputs": [
    {
     "name": "stdout",
     "output_type": "stream",
     "text": [
      "0.6629213483146067\n"
     ]
    }
   ],
   "source": [
    "from sklearn.ensemble import AdaBoostClassifier\n",
    "# ada boosting our random forest \n",
    "adaboost = AdaBoostClassifier(random_state=12)\n",
    "adaboost.fit(X_train_pca,y_train)\n",
    "\n",
    "print(adaboost.score(X_test_pca, y_test))\n",
    "y_res3 = adaboost.predict(X_test_pca)"
   ]
  },
  {
   "cell_type": "code",
   "execution_count": 26,
   "metadata": {},
   "outputs": [
    {
     "data": {
      "text/plain": [
       "0.8314606741573034"
      ]
     },
     "execution_count": 26,
     "metadata": {},
     "output_type": "execute_result"
    }
   ],
   "source": [
    "from sklearn.neighbors import KNeighborsClassifier\n",
    "knn = KNeighborsClassifier(n_neighbors=1)\n",
    "# knn = Pipeline([('pca', KernelPCA(n_components=32)), ('knn', KNeighborsClassifier(n_neighbors=20)) ])\n",
    "knn.fit(X_train_pca, y_train)\n",
    "knn.score(X_test_pca, y_test)"
   ]
  },
  {
   "cell_type": "code",
   "execution_count": null,
   "metadata": {},
   "outputs": [
    {
     "name": "stderr",
     "output_type": "stream",
     "text": [
      "C:\\Users\\prash\\AppData\\Local\\Packages\\PythonSoftwareFoundation.Python.3.7_qbz5n2kfra8p0\\LocalCache\\local-packages\\Python37\\site-packages\\sklearn\\neural_network\\_multilayer_perceptron.py:612: UserWarning: Got `batch_size` less than 1 or larger than sample size. It is going to be clipped\n",
      "  \"Got `batch_size` less than 1 or larger than \"\n",
      "C:\\Users\\prash\\AppData\\Local\\Packages\\PythonSoftwareFoundation.Python.3.7_qbz5n2kfra8p0\\LocalCache\\local-packages\\Python37\\site-packages\\sklearn\\neural_network\\_multilayer_perceptron.py:696: ConvergenceWarning: Stochastic Optimizer: Maximum iterations (200) reached and the optimization hasn't converged yet.\n",
      "  ConvergenceWarning,\n"
     ]
    },
    {
     "data": {
      "text/plain": [
       "0.8089887640449438"
      ]
     },
     "execution_count": 551,
     "metadata": {},
     "output_type": "execute_result"
    }
   ],
   "source": [
    "from sklearn.neural_network import MLPClassifier\n",
    "mlp = MLPClassifier(random_state=0,hidden_layer_sizes=(64, 8),batch_size=512*10, early_stopping = False, activation = 'tanh', momentum=0.9)\n",
    "mlp.fit(X_train_pca, y_train)\n",
    "mlp.score(X_test_pca, y_test)"
   ]
  },
  {
   "cell_type": "code",
   "execution_count": null,
   "metadata": {},
   "outputs": [
    {
     "name": "stdout",
     "output_type": "stream",
     "text": [
      "0.8426966292134831\n"
     ]
    }
   ],
   "source": [
    "from sklearn.ensemble import BaggingClassifier\n",
    "bgclassifer = BaggingClassifier(base_estimator=svc_model, n_estimators =16\n",
    ", max_samples=1.0, max_features=1.0, warm_start = True, bootstrap=True) \n",
    "bgclassifer.fit(X_train_pca, y_train)\n",
    "print(bgclassifer.score(X_test_pca, y_test))"
   ]
  },
  {
   "cell_type": "code",
   "execution_count": null,
   "metadata": {},
   "outputs": [],
   "source": [
    "from sklearn.ensemble import BaggingClassifier\n",
    "bgrclassifer = BaggingClassifier(base_estimator=randomforest, n_estimators=15\n",
    ", warm_start = True, bootstrap=True) \n",
    "bgrclassifer.fit(X_train_pca, y_train)\n",
    "print(bgrclassifer.score(X_test_pca, y_test))"
   ]
  },
  {
   "cell_type": "code",
   "execution_count": null,
   "metadata": {},
   "outputs": [],
   "source": [
    "from sklearn.naive_bayes import GaussianNB\n",
    "gnb = GaussianNB()\n",
    "gnb.fit(X_train_pca, y_train)\n",
    "gnb.score(X_test_pca, y_test)"
   ]
  },
  {
   "cell_type": "code",
   "execution_count": null,
   "metadata": {},
   "outputs": [],
   "source": [
    "from sklearn.multiclass import OneVsRestClassifier\n",
    "onevsrest_svm = OneVsRestClassifier(svc_model)\n",
    "onevsrest_svm.fit(X_train_pca, y_train)\n",
    "print(onevsrest_svm.score(X_test_pca, y_test))"
   ]
  }
 ],
 "metadata": {
  "kernelspec": {
   "display_name": "Python 3.7.9 64-bit (windows store)",
   "language": "python",
   "name": "python3"
  },
  "language_info": {
   "codemirror_mode": {
    "name": "ipython",
    "version": 3
   },
   "file_extension": ".py",
   "mimetype": "text/x-python",
   "name": "python",
   "nbconvert_exporter": "python",
   "pygments_lexer": "ipython3",
   "version": "3.7.9"
  },
  "orig_nbformat": 4,
  "vscode": {
   "interpreter": {
    "hash": "db295645f7e7cb3306c99ee0423b8006da002e3112b909aff4cf6ac215eee698"
   }
  }
 },
 "nbformat": 4,
 "nbformat_minor": 2
}
