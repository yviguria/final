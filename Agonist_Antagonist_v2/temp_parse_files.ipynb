{
 "cells": [
  {
   "cell_type": "code",
   "execution_count": 1,
   "metadata": {},
   "outputs": [],
   "source": [
    "import hs\n",
    "import pandas as pd\n",
    "from pathlib import Path\n",
    "from pathlib import Path\n",
    "import pandas as pd\n",
    "from Bio import *\n",
    "from Bio.PDB.PDBParser import PDBParser\n",
    "from Bio.PDB.Polypeptide import PPBuilder\n",
    "import matplotlib.pyplot as plt\n",
    "from matplotlib_venn import venn2"
   ]
  },
  {
   "cell_type": "code",
   "execution_count": 3,
   "metadata": {},
   "outputs": [],
   "source": [
    "pdb_name = '3peq'\n",
    "lig = '3EQ'\n",
    "file1 = open('fpocket/data/sample/' + pdb_name + '_' + lig + '_out/' + pdb_name + '_' + lig +  '_info.txt',\"r\")\n",
    "file2 = open('fpocket/data/sample/pdb' + pdb_name.lower() + '_' + lig  + '_out/pdb' + pdb_name.lower() + '_' + lig + '_info.txt',\"r\")"
   ]
  },
  {
   "cell_type": "code",
   "execution_count": 22,
   "metadata": {},
   "outputs": [
    {
     "name": "stderr",
     "output_type": "stream",
     "text": [
      "C:\\Users\\prash\\AppData\\Local\\Packages\\PythonSoftwareFoundation.Python.3.7_qbz5n2kfra8p0\\LocalCache\\local-packages\\Python37\\site-packages\\Bio\\PDB\\PDBParser.py:399: PDBConstructionWarning: Ignoring unrecognized record 'END' at line 260\n",
      "  PDBConstructionWarning,\n",
      "C:\\Users\\prash\\AppData\\Local\\Packages\\PythonSoftwareFoundation.Python.3.7_qbz5n2kfra8p0\\LocalCache\\local-packages\\Python37\\site-packages\\Bio\\PDB\\PDBParser.py:399: PDBConstructionWarning: Ignoring unrecognized record 'END' at line 281\n",
      "  PDBConstructionWarning,\n",
      "C:\\Users\\prash\\AppData\\Local\\Packages\\PythonSoftwareFoundation.Python.3.7_qbz5n2kfra8p0\\LocalCache\\local-packages\\Python37\\site-packages\\Bio\\PDB\\PDBParser.py:399: PDBConstructionWarning: Ignoring unrecognized record 'END' at line 290\n",
      "  PDBConstructionWarning,\n",
      "C:\\Users\\prash\\AppData\\Local\\Packages\\PythonSoftwareFoundation.Python.3.7_qbz5n2kfra8p0\\LocalCache\\local-packages\\Python37\\site-packages\\Bio\\PDB\\PDBParser.py:399: PDBConstructionWarning: Ignoring unrecognized record 'END' at line 288\n",
      "  PDBConstructionWarning,\n"
     ]
    },
    {
     "name": "stdout",
     "output_type": "stream",
     "text": [
      "['GLU', 'ALA', 'MET', 'MET', 'GLY', 'LEU', 'LEU', 'THR', 'ASN', 'LEU', 'ALA', 'ASP', 'ARG', 'GLU', 'LEU', 'TRP', 'LEU', 'ILE', 'LEU', 'MET', 'ILE', 'GLY', 'LEU', 'VAL', 'ARG', 'LEU', 'LEU', 'PHE', 'ALA', 'GLY', 'VAL', 'GLU', 'GLY', 'MET', 'VAL', 'GLU', 'ILE', 'PHE', 'ASP', 'LEU', 'MET', 'SER', 'LYS', 'GLY', 'MET', 'HIS', 'LEU', 'TYR', 'SER', 'MET', 'LEU', 'LEU', 'LEU', 'MET']\n",
      "['GLU', 'THR', 'PHE', 'PRO', 'LEU', 'TRP', 'LYS', 'PHE', 'SER', 'GLU', 'LEU', 'ALA', 'THR', 'LYS', 'CYS', 'ILE', 'ILE', 'LYS', 'ILE', 'GLU', 'CYS', 'LEU', 'ILE', 'LEU', 'MET', 'LEU', 'ARG', 'ILE', 'CYS', 'ARG', 'MET', 'THR', 'PHE', 'SER', 'ASP', 'GLY', 'MET', 'ALA', 'GLY', 'PHE', 'GLY', 'LEU', 'VAL', 'ILE', 'SER', 'LYS', 'GLY', 'ALA', 'GLU', 'ARG', 'ALA', 'ILE', 'LEU', 'LYS', 'MET', 'PRO', 'ILE', 'MET', 'LEU']\n",
      "['GLU', 'THR', 'PHE', 'PRO', 'LEU', 'TYR', 'TRP', 'LYS', 'PHE', 'SER', 'GLU', 'LEU', 'ALA', 'THR', 'LYS', 'CYS', 'ILE', 'ILE', 'LYS', 'ILE', 'GLU', 'CYS', 'LEU', 'ILE', 'LEU', 'MET', 'LEU', 'ARG', 'ILE', 'CYS', 'ARG', 'THR', 'PHE', 'SER', 'ASP', 'GLY', 'MET', 'ALA', 'GLY', 'PHE', 'GLY', 'LEU', 'VAL', 'ILE', 'SER', 'LYS', 'GLY', 'ALA', 'GLU', 'ARG', 'ALA', 'ILE', 'LEU', 'LYS', 'MET', 'PRO', 'ILE', 'MET', 'LEU']\n"
     ]
    },
    {
     "name": "stderr",
     "output_type": "stream",
     "text": [
      "C:\\Users\\prash\\AppData\\Local\\Packages\\PythonSoftwareFoundation.Python.3.7_qbz5n2kfra8p0\\LocalCache\\local-packages\\Python37\\site-packages\\Bio\\PDB\\PDBParser.py:399: PDBConstructionWarning: Ignoring unrecognized record 'END' at line 411\n",
      "  PDBConstructionWarning,\n",
      "C:\\Users\\prash\\AppData\\Local\\Packages\\PythonSoftwareFoundation.Python.3.7_qbz5n2kfra8p0\\LocalCache\\local-packages\\Python37\\site-packages\\Bio\\PDB\\PDBParser.py:399: PDBConstructionWarning: Ignoring unrecognized record 'END' at line 450\n",
      "  PDBConstructionWarning,\n",
      "C:\\Users\\prash\\AppData\\Local\\Packages\\PythonSoftwareFoundation.Python.3.7_qbz5n2kfra8p0\\LocalCache\\local-packages\\Python37\\site-packages\\Bio\\PDB\\PDBParser.py:399: PDBConstructionWarning: Ignoring unrecognized record 'END' at line 197\n",
      "  PDBConstructionWarning,\n"
     ]
    },
    {
     "name": "stdout",
     "output_type": "stream",
     "text": [
      "['GLU', 'THR', 'PHE', 'PRO', 'LEU', 'TYR', 'TRP', 'LYS', 'PHE', 'SER', 'GLU', 'LEU', 'ALA', 'THR', 'LYS', 'CYS', 'ILE', 'ILE', 'LYS', 'ILE', 'GLU', 'CYS', 'LEU', 'ILE', 'LEU', 'MET', 'LEU', 'ARG', 'ILE', 'CYS', 'ARG', 'THR', 'PHE', 'SER', 'ASP', 'GLY', 'MET', 'ALA', 'GLY', 'PHE', 'GLY', 'LEU', 'VAL', 'ILE', 'SER', 'LYS', 'GLY', 'ALA', 'GLU', 'ARG', 'ALA', 'ILE', 'LEU', 'LYS', 'MET', 'PRO', 'ILE', 'MET', 'LEU']\n",
      "['SER', 'PHE', 'PRO', 'LEU', 'ALA', 'PHE', 'ILE', 'SER', 'LEU', 'MET', 'MET', 'GLY', 'GLU', 'ASP', 'ILE', 'LYS', 'THR', 'PRO', 'LEU', 'GLN', 'GLU', 'GLN', 'VAL', 'ILE', 'ARG', 'ILE', 'PHE', 'GLN', 'GLY', 'CYS', 'GLN', 'PHE', 'ARG', 'SER', 'VAL', 'GLU', 'ALA', 'VAL', 'GLU', 'ILE', 'VAL', 'HIS', 'ILE', 'ILE', 'TYR', 'THR', 'MET', 'LEU', 'ALA', 'SER', 'LEU', 'MET', 'VAL', 'LEU', 'ILE', 'SER', 'GLU', 'GLY', 'GLN', 'GLY', 'PHE', 'MET', 'PHE', 'LEU', 'PHE', 'MET', 'LYS', 'HIS', 'LEU', 'ILE', 'MET', 'LEU', 'LEU', 'TYR']\n",
      "['PHE', 'PRO', 'LEU', 'ALA', 'PHE', 'ILE', 'SER', 'LEU', 'MET', 'MET', 'GLY', 'GLU', 'ASP', 'ILE', 'LYS', 'HIS', 'THR', 'PRO', 'LEU', 'GLN', 'GLU', 'VAL', 'ALA', 'ILE', 'ARG', 'ILE', 'PHE', 'GLN', 'GLY', 'CYS', 'GLN', 'PHE', 'ARG', 'SER', 'VAL', 'GLU', 'ALA', 'VAL', 'GLU', 'ILE', 'VAL', 'HIS', 'ILE', 'ILE', 'TYR', 'THR', 'MET', 'LEU', 'ALA', 'SER', 'LEU', 'MET', 'VAL', 'LEU', 'ILE', 'SER', 'GLU', 'GLY', 'GLN', 'GLY', 'PHE', 'MET', 'PHE', 'LEU', 'LEU', 'PRO', 'PHE', 'GLY', 'ASP', 'PHE', 'MET', 'LYS', 'PHE', 'HIS', 'LEU', 'LEU', 'ILE', 'MET', 'LEU', 'HIS', 'LEU', 'TYR']\n",
      "['GLY', 'LYS', 'TYR', 'GLY', 'ALA', 'ARG', 'ASP', 'ALA', 'TRP', 'ASN', 'GLY', 'LEU', 'THR', 'ILE', 'THR', 'LEU', 'VAL', 'ARG', 'GLU', 'GLU', 'VAL', 'ILE', 'LEU', 'ASP', 'SER', 'GLY', 'SER', 'THR', 'LYS', 'GLU', 'PHE', 'PHE', 'ARG', 'ARG', 'SER', 'TRP', 'ASP', 'LYS']\n"
     ]
    },
    {
     "name": "stderr",
     "output_type": "stream",
     "text": [
      "C:\\Users\\prash\\AppData\\Local\\Packages\\PythonSoftwareFoundation.Python.3.7_qbz5n2kfra8p0\\LocalCache\\local-packages\\Python37\\site-packages\\Bio\\PDB\\PDBParser.py:399: PDBConstructionWarning: Ignoring unrecognized record 'END' at line 351\n",
      "  PDBConstructionWarning,\n",
      "C:\\Users\\prash\\AppData\\Local\\Packages\\PythonSoftwareFoundation.Python.3.7_qbz5n2kfra8p0\\LocalCache\\local-packages\\Python37\\site-packages\\Bio\\PDB\\PDBParser.py:399: PDBConstructionWarning: Ignoring unrecognized record 'END' at line 149\n",
      "  PDBConstructionWarning,\n",
      "C:\\Users\\prash\\AppData\\Local\\Packages\\PythonSoftwareFoundation.Python.3.7_qbz5n2kfra8p0\\LocalCache\\local-packages\\Python37\\site-packages\\Bio\\PDB\\PDBParser.py:399: PDBConstructionWarning: Ignoring unrecognized record 'END' at line 197\n",
      "  PDBConstructionWarning,\n",
      "C:\\Users\\prash\\AppData\\Local\\Packages\\PythonSoftwareFoundation.Python.3.7_qbz5n2kfra8p0\\LocalCache\\local-packages\\Python37\\site-packages\\Bio\\PDB\\PDBParser.py:399: PDBConstructionWarning: Ignoring unrecognized record 'END' at line 260\n",
      "  PDBConstructionWarning,\n"
     ]
    },
    {
     "name": "stdout",
     "output_type": "stream",
     "text": [
      "['ILE', 'LEU', 'GLU', 'SER', 'PRO', 'TYR', 'ILE', 'VAL', 'ASP', 'GLY', 'LYS', 'TYR', 'GLY', 'ALA', 'ARG', 'ASP', 'ALA', 'ASP', 'ILE', 'TRP', 'ASN', 'GLY', 'PRO', 'LEU', 'THR', 'ILE', 'THR', 'LEU', 'VAL', 'ARG', 'GLU', 'LEU', 'ILE', 'THR', 'LEU', 'ASP', 'SER', 'GLY', 'SER', 'THR', 'LYS', 'GLU', 'PHE', 'PHE', 'VAL', 'ARG', 'THR', 'THR', 'ALA', 'GLU', 'VAL', 'TYR', 'LEU', 'LEU', 'GLU', 'THR', 'MET', 'ASN', 'TYR', 'ILE', 'ASP', 'SER', 'LYS', 'GLY', 'TYR', 'TRP']\n",
      "['GLU', 'TYR', 'TYR', 'GLY', 'PRO', 'LEU', 'THR', 'ILE', 'ARG', 'THR', 'LEU', 'ASP', 'SER', 'GLY', 'SER', 'THR', 'LYS', 'VAL', 'THR', 'THR', 'TYR', 'LEU', 'LEU', 'GLU', 'SER', 'THR', 'MET', 'ASN', 'TYR']\n",
      "['LEU', 'HIS', 'SER', 'SER', 'LEU', 'ASN', 'GLU', 'LEU', 'GLY', 'GLU', 'GLN', 'TRP', 'MET', 'GLY', 'LEU', 'MET', 'VAL', 'PHE', 'ALA', 'MET', 'GLY', 'ARG', 'TYR', 'PHE', 'ALA', 'LEU', 'PHE', 'MET', 'GLN', 'CYS', 'MET', 'GLU', 'LEU', 'HIS', 'GLN', 'PHE', 'ALA', 'PHE', 'LEU', 'LEU', 'VAL', 'ASP', 'PHE', 'PRO', 'MET', 'ILE']\n"
     ]
    },
    {
     "name": "stderr",
     "output_type": "stream",
     "text": [
      "C:\\Users\\prash\\AppData\\Local\\Packages\\PythonSoftwareFoundation.Python.3.7_qbz5n2kfra8p0\\LocalCache\\local-packages\\Python37\\site-packages\\Bio\\PDB\\PDBParser.py:399: PDBConstructionWarning: Ignoring unrecognized record 'END' at line 409\n",
      "  PDBConstructionWarning,\n",
      "C:\\Users\\prash\\AppData\\Local\\Packages\\PythonSoftwareFoundation.Python.3.7_qbz5n2kfra8p0\\LocalCache\\local-packages\\Python37\\site-packages\\Bio\\PDB\\PDBParser.py:399: PDBConstructionWarning: Ignoring unrecognized record 'END' at line 383\n",
      "  PDBConstructionWarning,\n",
      "C:\\Users\\prash\\AppData\\Local\\Packages\\PythonSoftwareFoundation.Python.3.7_qbz5n2kfra8p0\\LocalCache\\local-packages\\Python37\\site-packages\\Bio\\PDB\\PDBParser.py:399: PDBConstructionWarning: Ignoring unrecognized record 'END' at line 313\n",
      "  PDBConstructionWarning,\n",
      "C:\\Users\\prash\\AppData\\Local\\Packages\\PythonSoftwareFoundation.Python.3.7_qbz5n2kfra8p0\\LocalCache\\local-packages\\Python37\\site-packages\\Bio\\PDB\\PDBParser.py:399: PDBConstructionWarning: Ignoring unrecognized record 'END' at line 307\n",
      "  PDBConstructionWarning,\n"
     ]
    },
    {
     "name": "stdout",
     "output_type": "stream",
     "text": [
      "['PRO', 'VAL', 'THR', 'ASN', 'ILE', 'CYS', 'GLN', 'ALA', 'ALA', 'ASP', 'GLN', 'LEU', 'ARG', 'TRP', 'ASN', 'GLU', 'LEU', 'LEU', 'ILE', 'ALA', 'SER', 'PHE', 'SER', 'ARG', 'ILE', 'LEU', 'ALA', 'VAL', 'ALA', 'ALA', 'VAL', 'GLY', 'ALA', 'ILE', 'PHE', 'ASP', 'VAL', 'LEU', 'ILE', 'GLY', 'LYS', 'CYS', 'LEU', 'GLU', 'HIS', 'LEU', 'PHE', 'PHE', 'LYS']\n",
      "['TYR', 'ASN', 'PHE', 'ASN', 'MET', 'ASN', 'LYS', 'ALA', 'PRO', 'PHE', 'VAL', 'ILE', 'THR', 'LEU', 'CYS', 'MET', 'ALA', 'GLU', 'LYS', 'THR', 'LEU', 'ALA', 'ARG', 'ILE', 'PHE', 'HIS', 'CYS', 'CYS', 'GLN', 'CYS', 'THR', 'SER', 'VAL', 'GLU', 'THR', 'VAL', 'GLU', 'LEU', 'TYR', 'ALA', 'ILE', 'PHE', 'ALA', 'MET', 'LEU', 'SER', 'SER', 'VAL', 'MET', 'LEU', 'VAL', 'ALA', 'TYR', 'GLY', 'ASN', 'GLY', 'PHE', 'ILE', 'THR', 'PHE', 'LEU', 'LEU', 'ILE', 'MET', 'LYS', 'PHE', 'ASP', 'HIS', 'LEU', 'VAL', 'ILE', 'ALA', 'LEU', 'HIS', 'LEU', 'GLN', 'TYR']\n",
      "['TYR', 'PHE', 'PRO', 'LEU', 'THR', 'LYS', 'LYS', 'ALA', 'PHE', 'ILE', 'SER', 'LEU', 'MET', 'MET', 'GLY', 'GLU', 'ASP', 'ILE', 'LYS', 'VAL', 'ILE', 'ARG', 'ILE', 'PHE', 'GLN', 'GLY', 'CYS', 'GLN', 'PHE', 'ARG', 'SER', 'VAL', 'GLU', 'ALA', 'VAL', 'GLU', 'ILE', 'VAL', 'HIS', 'ILE', 'ILE', 'TYR', 'THR', 'MET', 'LEU', 'ALA', 'SER', 'LEU', 'MET', 'VAL', 'LEU', 'ILE', 'SER', 'GLU', 'GLY', 'GLN', 'GLY', 'MET', 'LEU', 'LEU', 'PHE', 'MET', 'LYS', 'PHE', 'ASP', 'HIS', 'LEU', 'ILE', 'LEU', 'LEU', 'TYR']\n",
      "['THR', 'TYR', 'ASP', 'PRO', 'THR', 'TYR', 'SER', 'ASP', 'PHE', 'PHE', 'MET', 'LEU', 'PRO', 'HIS', 'LEU', 'ALA', 'ASP', 'LEU', 'VAL', 'SER', 'TYR', 'SER', 'LYS', 'ILE', 'GLU', 'VAL', 'ILE', 'MET', 'LEU', 'ARG', 'SER', 'ASN', 'GLU', 'SER', 'PHE', 'TRP', 'THR', 'CYS', 'TYR', 'TYR', 'ARG', 'ASP', 'VAL', 'ALA', 'GLY', 'HIS', 'LEU', 'ILE', 'LEU', 'GLN', 'LEU', 'HIS', 'GLN', 'TYR', 'LEU', 'CYS', 'LYS', 'LEU', 'VAL', 'PHE']\n",
      "['THR', 'TYR', 'ASP', 'PRO', 'THR', 'TYR', 'SER', 'ASP', 'PHE', 'PHE', 'MET', 'LEU', 'PRO', 'HIS', 'LEU', 'ALA', 'ASP', 'LEU', 'VAL', 'SER', 'TYR', 'SER', 'LYS', 'ILE', 'VAL', 'ILE', 'MET', 'LEU', 'ARG', 'SER', 'ASN', 'GLU', 'SER', 'PHE', 'SER', 'TRP', 'THR', 'CYS', 'TYR', 'TYR', 'ARG', 'VAL', 'ASP', 'VAL', 'THR', 'ALA', 'GLY', 'HIS', 'LEU', 'ILE', 'LEU', 'GLN', 'HIS', 'GLN', 'TYR', 'LEU', 'CYS', 'LYS', 'LEU', 'VAL', 'PHE']\n",
      "['PHE', 'PRO', 'LEU', 'ALA', 'ARG', 'ILE', 'ILE', 'MET', 'LEU', 'MET', 'ASP', 'LYS', 'ILE', 'LYS', 'LYS', 'HIS', 'THR', 'PRO', 'LEU', 'GLN', 'GLU', 'GLN', 'SER', 'GLU', 'VAL', 'ALA', 'ILE', 'ARG', 'ILE', 'PHE', 'GLN', 'GLY', 'CYS', 'GLN', 'PHE', 'ARG', 'SER', 'VAL', 'GLU', 'ALA', 'VAL', 'GLU', 'ILE', 'VAL', 'HIS', 'ILE', 'ILE', 'TYR', 'THR', 'MET', 'LEU', 'ALA', 'SER', 'LEU', 'MET', 'VAL', 'LEU', 'ILE', 'SER', 'GLU', 'GLY', 'GLN', 'GLY', 'MET', 'PHE', 'LEU', 'LYS', 'LEU', 'PRO', 'PHE', 'GLY', 'ASP', 'PHE', 'MET', 'LYS', 'PHE', 'HIS', 'LEU', 'ILE', 'MET', 'LEU', 'HIS', 'LEU', 'TYR']\n",
      "['MET', 'MET', 'GLY', 'LEU', 'LEU', 'THR', 'ASN', 'LEU', 'ALA', 'ASP', 'GLU', 'LEU', 'TRP', 'LEU', 'ILE', 'LEU', 'MET', 'ILE', 'GLY', 'LEU', 'ARG', 'LEU', 'LEU', 'PHE', 'MET', 'ILE', 'PHE', 'LEU', 'MET', 'SER', 'LYS', 'GLY', 'MET', 'HIS', 'LEU', 'TYR', 'MET', 'VAL', 'LEU', 'LEU']\n"
     ]
    },
    {
     "name": "stderr",
     "output_type": "stream",
     "text": [
      "C:\\Users\\prash\\AppData\\Local\\Packages\\PythonSoftwareFoundation.Python.3.7_qbz5n2kfra8p0\\LocalCache\\local-packages\\Python37\\site-packages\\Bio\\PDB\\PDBParser.py:399: PDBConstructionWarning: Ignoring unrecognized record 'END' at line 449\n",
      "  PDBConstructionWarning,\n",
      "C:\\Users\\prash\\AppData\\Local\\Packages\\PythonSoftwareFoundation.Python.3.7_qbz5n2kfra8p0\\LocalCache\\local-packages\\Python37\\site-packages\\Bio\\PDB\\PDBParser.py:399: PDBConstructionWarning: Ignoring unrecognized record 'END' at line 193\n",
      "  PDBConstructionWarning,\n",
      "C:\\Users\\prash\\AppData\\Local\\Packages\\PythonSoftwareFoundation.Python.3.7_qbz5n2kfra8p0\\LocalCache\\local-packages\\Python37\\site-packages\\Bio\\PDB\\PDBParser.py:399: PDBConstructionWarning: Ignoring unrecognized record 'END' at line 131\n",
      "  PDBConstructionWarning,\n"
     ]
    },
    {
     "name": "stdout",
     "output_type": "stream",
     "text": [
      "['GLU', 'TYR', 'TYR', 'GLY', 'PRO', 'LEU', 'THR', 'THR', 'ARG', 'THR', 'LEU', 'ASP', 'SER', 'GLY', 'SER', 'THR', 'LYS', 'THR', 'THR', 'TYR', 'LEU', 'LEU', 'GLU', 'THR', 'MET', 'ASN', 'LYS', 'TYR']\n",
      "['GLU', 'TYR', 'GLY', 'PRO', 'LEU', 'THR', 'ARG', 'LEU', 'ILE', 'THR', 'LEU', 'ASP', 'SER', 'GLY', 'SER', 'THR', 'LYS', 'VAL', 'THR', 'THR', 'TYR', 'LEU', 'LEU', 'GLU', 'THR', 'MET', 'LYS', 'TYR']\n",
      "['PRO', 'VAL', 'THR', 'ASN', 'ILE', 'CYS', 'GLN', 'ALA', 'ALA', 'ASP', 'GLN', 'LEU', 'TRP', 'ASN', 'GLU', 'LEU', 'LEU', 'ILE', 'ALA', 'SER', 'PHE', 'SER', 'ARG', 'ILE', 'LEU', 'LEU', 'ALA', 'THR', 'ALA', 'VAL', 'GLY', 'ILE', 'PHE', 'ASP', 'VAL', 'ILE', 'GLY', 'LYS', 'CYS', 'LEU', 'GLU', 'HIS', 'LEU', 'PHE', 'PHE', 'THR', 'LEU', 'LEU']\n"
     ]
    },
    {
     "name": "stderr",
     "output_type": "stream",
     "text": [
      "C:\\Users\\prash\\AppData\\Local\\Packages\\PythonSoftwareFoundation.Python.3.7_qbz5n2kfra8p0\\LocalCache\\local-packages\\Python37\\site-packages\\Bio\\PDB\\PDBParser.py:399: PDBConstructionWarning: Ignoring unrecognized record 'END' at line 143\n",
      "  PDBConstructionWarning,\n",
      "C:\\Users\\prash\\AppData\\Local\\Packages\\PythonSoftwareFoundation.Python.3.7_qbz5n2kfra8p0\\LocalCache\\local-packages\\Python37\\site-packages\\Bio\\PDB\\PDBParser.py:399: PDBConstructionWarning: Ignoring unrecognized record 'END' at line 240\n",
      "  PDBConstructionWarning,\n",
      "C:\\Users\\prash\\AppData\\Local\\Packages\\PythonSoftwareFoundation.Python.3.7_qbz5n2kfra8p0\\LocalCache\\local-packages\\Python37\\site-packages\\Bio\\PDB\\PDBParser.py:399: PDBConstructionWarning: Ignoring unrecognized record 'END' at line 237\n",
      "  PDBConstructionWarning,\n"
     ]
    },
    {
     "name": "stdout",
     "output_type": "stream",
     "text": [
      "['PRO', 'VAL', 'THR', 'ASN', 'ILE', 'CYS', 'GLN', 'ALA', 'ALA', 'ASP', 'GLN', 'LEU', 'TRP', 'ASN', 'GLU', 'LEU', 'LEU', 'ILE', 'ALA', 'SER', 'PHE', 'SER', 'ARG', 'ILE', 'LEU', 'LEU', 'ALA', 'THR', 'ALA', 'VAL', 'GLY', 'ALA', 'ILE', 'PHE', 'ASP', 'ARG', 'VAL', 'ARG', 'ILE', 'GLY', 'LYS', 'CYS', 'LEU', 'HIS', 'LEU', 'PHE', 'LEU']\n",
      "['THR', 'TRP', 'ARG', 'ILE', 'MET', 'THR', 'THR', 'LEU', 'ASN', 'MET', 'LEU', 'GLY', 'GLY', 'ARG', 'GLN', 'VAL', 'ILE', 'VAL', 'MET', 'LEU', 'GLN', 'TYR', 'SER', 'TRP', 'MET', 'SER', 'MET', 'ALA', 'PHE', 'ALA', 'LEU', 'ARG', 'LEU', 'CYS', 'PHE', 'ALA', 'ILE', 'PRO', 'ASP', 'MET', 'GLN', 'CYS', 'MET', 'VAL', 'ASN', 'LEU', 'LEU', 'ASN', 'TYR', 'CYS', 'PHE', 'GLN', 'THR', 'ASP', 'LYS', 'SER']\n",
      "['GLU', 'SER', 'TYR', 'TYR', 'GLY', 'MET', 'PRO', 'LEU', 'THR', 'THR', 'ARG', 'ILE', 'THR', 'LEU', 'ASP', 'SER', 'GLY', 'SER', 'THR', 'LYS', 'VAL', 'THR', 'THR', 'TYR', 'LEU', 'LEU', 'GLU', 'SER', 'THR', 'MET', 'ASN', 'ILE', 'TYR']\n"
     ]
    },
    {
     "name": "stderr",
     "output_type": "stream",
     "text": [
      "C:\\Users\\prash\\AppData\\Local\\Packages\\PythonSoftwareFoundation.Python.3.7_qbz5n2kfra8p0\\LocalCache\\local-packages\\Python37\\site-packages\\Bio\\PDB\\PDBParser.py:399: PDBConstructionWarning: Ignoring unrecognized record 'END' at line 336\n",
      "  PDBConstructionWarning,\n",
      "C:\\Users\\prash\\AppData\\Local\\Packages\\PythonSoftwareFoundation.Python.3.7_qbz5n2kfra8p0\\LocalCache\\local-packages\\Python37\\site-packages\\Bio\\PDB\\PDBParser.py:399: PDBConstructionWarning: Ignoring unrecognized record 'END' at line 161\n",
      "  PDBConstructionWarning,\n",
      "C:\\Users\\prash\\AppData\\Local\\Packages\\PythonSoftwareFoundation.Python.3.7_qbz5n2kfra8p0\\LocalCache\\local-packages\\Python37\\site-packages\\Bio\\PDB\\PDBParser.py:399: PDBConstructionWarning: Ignoring unrecognized record 'END' at line 354\n",
      "  PDBConstructionWarning,\n",
      "C:\\Users\\prash\\AppData\\Local\\Packages\\PythonSoftwareFoundation.Python.3.7_qbz5n2kfra8p0\\LocalCache\\local-packages\\Python37\\site-packages\\Bio\\PDB\\PDBParser.py:399: PDBConstructionWarning: Ignoring unrecognized record 'END' at line 367\n",
      "  PDBConstructionWarning,\n"
     ]
    },
    {
     "name": "stdout",
     "output_type": "stream",
     "text": [
      "['VAL', 'ARG', 'LYS', 'ASP', 'LEU', 'CYS', 'SER', 'LEU', 'LYS', 'VAL', 'SER', 'TYR', 'LYS', 'PRO', 'PRO', 'ALA', 'ASP', 'SER', 'GLY', 'LYS', 'GLU', 'ILE', 'PHE', 'SER', 'LEU', 'LEU', 'PRO', 'HIS', 'MET', 'ALA', 'ASP', 'MET', 'SER', 'THR', 'MET', 'PHE', 'ALA', 'PHE', 'CYS', 'GLN', 'PHE', 'VAL', 'TRP', 'CYS', 'SER', 'TYR', 'CYS', 'LEU', 'GLU', 'MET', 'LEU', 'HIS', 'ILE', 'ASN', 'GLN', 'HIS', 'THR', 'GLN', 'ARG', 'LEU', 'LEU', 'ILE', 'PHE', 'MET', 'PHE']\n",
      "['TYR', 'SER', 'PHE', 'PRO', 'LEU', 'THR', 'LYS', 'ALA', 'ILE', 'LEU', 'GLY', 'GLU', 'LYS', 'VAL', 'ARG', 'ILE', 'PHE', 'GLN', 'GLY', 'CYS', 'GLN', 'PHE', 'ARG', 'SER', 'VAL', 'GLU', 'ALA', 'VAL', 'GLU', 'ILE', 'HIS', 'ILE', 'ILE', 'TYR', 'THR', 'MET', 'LEU', 'ALA', 'SER', 'LEU', 'MET', 'VAL', 'LEU', 'ILE', 'SER', 'GLU', 'GLY', 'GLN', 'GLY', 'PHE', 'MET', 'LEU', 'LEU', 'PHE', 'PHE', 'MET', 'LYS', 'PHE', 'ASP', 'HIS', 'LEU', 'ILE', 'LEU', 'HIS', 'LEU', 'GLN', 'ILE', 'TYR']\n",
      "['GLN', 'ARG', 'MET', 'PRO', 'GLU', 'ASN', 'PHE', 'LEU', 'ILE', 'LEU', 'THR', 'GLU', 'MET', 'ALA', 'THR', 'ASN', 'HIS', 'VAL', 'MET', 'PHE', 'ARG', 'SER', 'ALA', 'GLU', 'ILE', 'PHE', 'LYS', 'LEU', 'PRO', 'HIS', 'SER', 'LEU', 'LEU', 'GLU', 'GLU', 'ARG', 'ILE', 'ARG', 'ASN', 'SER', 'ILE', 'TYR', 'ILE', 'MET', 'PHE', 'TYR', 'PHE', 'HIS', 'MET', 'LEU', 'TRP', 'HIS', 'PHE', 'LEU', 'TRP']\n",
      "['THR', 'ILE', 'LEU', 'GLU', 'SER', 'PRO', 'TYR', 'VAL', 'ILE', 'VAL', 'GLY', 'ASP', 'GLY', 'LYS', 'TYR', 'GLY', 'ALA', 'ARG', 'ASP', 'ALA', 'ILE', 'TRP', 'ASN', 'GLY', 'PRO', 'LEU', 'THR', 'ILE', 'THR', 'VAL', 'ARG', 'LEU', 'THR', 'THR', 'ASP', 'SER', 'GLY', 'SER', 'THR', 'LYS', 'GLU', 'ARG', 'PHE', 'VAL', 'ARG', 'THR', 'THR', 'ALA', 'GLU', 'VAL', 'TYR', 'LEU', 'LEU', 'GLU', 'SER', 'THR', 'MET', 'ASN', 'TYR', 'ILE', 'LYS', 'TYR']\n"
     ]
    },
    {
     "name": "stderr",
     "output_type": "stream",
     "text": [
      "C:\\Users\\prash\\AppData\\Local\\Packages\\PythonSoftwareFoundation.Python.3.7_qbz5n2kfra8p0\\LocalCache\\local-packages\\Python37\\site-packages\\Bio\\PDB\\PDBParser.py:399: PDBConstructionWarning: Ignoring unrecognized record 'END' at line 326\n",
      "  PDBConstructionWarning,\n",
      "C:\\Users\\prash\\AppData\\Local\\Packages\\PythonSoftwareFoundation.Python.3.7_qbz5n2kfra8p0\\LocalCache\\local-packages\\Python37\\site-packages\\Bio\\PDB\\PDBParser.py:399: PDBConstructionWarning: Ignoring unrecognized record 'END' at line 314\n",
      "  PDBConstructionWarning,\n",
      "C:\\Users\\prash\\AppData\\Local\\Packages\\PythonSoftwareFoundation.Python.3.7_qbz5n2kfra8p0\\LocalCache\\local-packages\\Python37\\site-packages\\Bio\\PDB\\PDBParser.py:399: PDBConstructionWarning: Ignoring unrecognized record 'END' at line 142\n",
      "  PDBConstructionWarning,\n",
      "C:\\Users\\prash\\AppData\\Local\\Packages\\PythonSoftwareFoundation.Python.3.7_qbz5n2kfra8p0\\LocalCache\\local-packages\\Python37\\site-packages\\Bio\\PDB\\PDBParser.py:399: PDBConstructionWarning: Ignoring unrecognized record 'END' at line 153\n",
      "  PDBConstructionWarning,\n",
      "C:\\Users\\prash\\AppData\\Local\\Packages\\PythonSoftwareFoundation.Python.3.7_qbz5n2kfra8p0\\LocalCache\\local-packages\\Python37\\site-packages\\Bio\\PDB\\PDBParser.py:399: PDBConstructionWarning: Ignoring unrecognized record 'END' at line 153\n",
      "  PDBConstructionWarning,\n"
     ]
    },
    {
     "name": "stdout",
     "output_type": "stream",
     "text": [
      "['GLU', 'TYR', 'GLY', 'MET', 'PRO', 'LEU', 'THR', 'ILE', 'ARG', 'ILE', 'THR', 'THR', 'ASP', 'SER', 'GLY', 'SER', 'THR', 'LYS', 'GLU', 'ARG', 'THR', 'THR', 'TYR', 'LEU', 'LEU', 'GLU', 'SER', 'THR', 'MET', 'TYR']\n",
      "['GLU', 'TYR', 'TYR', 'GLY', 'MET', 'PRO', 'LEU', 'THR', 'ILE', 'ARG', 'THR', 'THR', 'ASP', 'SER', 'GLY', 'SER', 'THR', 'LYS', 'GLU', 'ARG', 'THR', 'THR', 'TYR', 'LEU', 'LEU', 'GLU', 'SER', 'THR', 'MET', 'ASN', 'TYR']\n",
      "['GLU', 'TYR', 'TYR', 'GLY', 'MET', 'PRO', 'LEU', 'THR', 'ARG', 'ILE', 'THR', 'THR', 'ASP', 'SER', 'GLY', 'SER', 'THR', 'LYS', 'ARG', 'THR', 'THR', 'TYR', 'LEU', 'LEU', 'GLU', 'THR', 'MET', 'ASN', 'LYS', 'TYR']\n",
      "['GLU', 'TYR', 'TYR', 'GLY', 'PRO', 'LEU', 'THR', 'THR', 'ARG', 'ILE', 'THR', 'THR', 'ASP', 'SER', 'GLY', 'SER', 'THR', 'LYS', 'GLU', 'ARG', 'THR', 'THR', 'TYR', 'LEU', 'LEU', 'GLU', 'SER', 'THR', 'MET', 'ASN', 'LYS', 'TYR']\n",
      "['ILE', 'MET', 'THR', 'THR', 'LEU', 'ASN', 'MET', 'LEU', 'GLY', 'GLY', 'GLN', 'VAL', 'TRP', 'MET', 'SER', 'LEU', 'MET', 'ALA', 'PHE', 'LEU', 'ARG', 'LEU', 'CYS', 'PHE', 'ALA', 'ILE', 'ASP', 'MET', 'GLN', 'CYS', 'LYS', 'HIS', 'MET', 'ASN', 'LEU', 'LEU', 'ASN', 'TYR', 'CYS', 'PHE', 'THR', 'PHE', 'ILE', 'GLU', 'PHE', 'PRO', 'LEU', 'ILE']\n"
     ]
    },
    {
     "name": "stderr",
     "output_type": "stream",
     "text": [
      "C:\\Users\\prash\\AppData\\Local\\Packages\\PythonSoftwareFoundation.Python.3.7_qbz5n2kfra8p0\\LocalCache\\local-packages\\Python37\\site-packages\\Bio\\PDB\\PDBParser.py:399: PDBConstructionWarning: Ignoring unrecognized record 'END' at line 156\n",
      "  PDBConstructionWarning,\n",
      "C:\\Users\\prash\\AppData\\Local\\Packages\\PythonSoftwareFoundation.Python.3.7_qbz5n2kfra8p0\\LocalCache\\local-packages\\Python37\\site-packages\\Bio\\PDB\\PDBParser.py:399: PDBConstructionWarning: Ignoring unrecognized record 'END' at line 228\n",
      "  PDBConstructionWarning,\n",
      "C:\\Users\\prash\\AppData\\Local\\Packages\\PythonSoftwareFoundation.Python.3.7_qbz5n2kfra8p0\\LocalCache\\local-packages\\Python37\\site-packages\\Bio\\PDB\\PDBParser.py:399: PDBConstructionWarning: Ignoring unrecognized record 'END' at line 136\n",
      "  PDBConstructionWarning,\n",
      "C:\\Users\\prash\\AppData\\Local\\Packages\\PythonSoftwareFoundation.Python.3.7_qbz5n2kfra8p0\\LocalCache\\local-packages\\Python37\\site-packages\\Bio\\PDB\\PDBParser.py:399: PDBConstructionWarning: Ignoring unrecognized record 'END' at line 383\n",
      "  PDBConstructionWarning,\n"
     ]
    },
    {
     "name": "stdout",
     "output_type": "stream",
     "text": [
      "['THR', 'ILE', 'ASN', 'THR', 'GLU', 'ARG', 'GLN', 'GLY', 'LEU', 'SER', 'SER', 'VAL', 'ASP', 'ILE', 'TYR', 'PHE', 'ARG', 'ARG', 'GLN', 'ASP', 'PHE', 'ARG', 'SER', 'GLY']\n",
      "['THR', 'ILE', 'HIS', 'GLN', 'GLU', 'PRO', 'PHE', 'VAL', 'VAL', 'ASP', 'GLY', 'LYS', 'PHE', 'GLY', 'THR', 'GLN', 'GLU', 'TRP', 'ASN', 'GLY', 'MET', 'MET', 'PRO', 'LEU', 'THR', 'ILE', 'ASN', 'ASN', 'GLU', 'ARG', 'GLN', 'GLY', 'LEU', 'THR', 'VAL', 'LYS', 'GLN', 'SER', 'SER', 'VAL', 'ASP', 'ILE', 'TYR', 'PHE', 'ARG', 'TYR', 'GLU', 'SER', 'ALA', 'ALA', 'GLU', 'ILE', 'PHE', 'ILE', 'TRP', 'ASP', 'SER', 'ALA', 'VAL', 'PHE', 'GLU', 'PHE', 'PHE', 'ARG', 'SER', 'GLY', 'PHE']\n",
      "['THR', 'ASN', 'ALA', 'GLY', 'LYS', 'VAL', 'ASP', 'LEU', 'ALA', 'PHE', 'SER', 'HIS', 'PHE', 'THR', 'LYS', 'ILE', 'ILE', 'THR', 'PRO', 'ALA', 'ILE', 'ARG', 'VAL', 'MET', 'ILE', 'MET', 'SER', 'LEU', 'ARG', 'ALA', 'ALA', 'ARG', 'LEU', 'THR', 'LEU', 'ASN', 'GLY', 'MET', 'VAL', 'LEU', 'LYS', 'ASN', 'GLY', 'GLY', 'LEU', 'GLY', 'VAL', 'VAL', 'SER', 'ILE', 'HIS', 'ALA', 'ARG', 'PHE', 'LEU', 'HIS', 'MET', 'GLU', 'CYS', 'PRO', 'LEU', 'PHE', 'PRO', 'PHE', 'LEU', 'PHE']\n"
     ]
    },
    {
     "name": "stderr",
     "output_type": "stream",
     "text": [
      "C:\\Users\\prash\\AppData\\Local\\Packages\\PythonSoftwareFoundation.Python.3.7_qbz5n2kfra8p0\\LocalCache\\local-packages\\Python37\\site-packages\\Bio\\PDB\\PDBParser.py:399: PDBConstructionWarning: Ignoring unrecognized record 'END' at line 345\n",
      "  PDBConstructionWarning,\n",
      "C:\\Users\\prash\\AppData\\Local\\Packages\\PythonSoftwareFoundation.Python.3.7_qbz5n2kfra8p0\\LocalCache\\local-packages\\Python37\\site-packages\\Bio\\PDB\\PDBParser.py:399: PDBConstructionWarning: Ignoring unrecognized record 'END' at line 249\n",
      "  PDBConstructionWarning,\n",
      "C:\\Users\\prash\\AppData\\Local\\Packages\\PythonSoftwareFoundation.Python.3.7_qbz5n2kfra8p0\\LocalCache\\local-packages\\Python37\\site-packages\\Bio\\PDB\\PDBParser.py:399: PDBConstructionWarning: Ignoring unrecognized record 'END' at line 285\n",
      "  PDBConstructionWarning,\n",
      "C:\\Users\\prash\\AppData\\Local\\Packages\\PythonSoftwareFoundation.Python.3.7_qbz5n2kfra8p0\\LocalCache\\local-packages\\Python37\\site-packages\\Bio\\PDB\\PDBParser.py:399: PDBConstructionWarning: Ignoring unrecognized record 'END' at line 248\n",
      "  PDBConstructionWarning,\n",
      "C:\\Users\\prash\\AppData\\Local\\Packages\\PythonSoftwareFoundation.Python.3.7_qbz5n2kfra8p0\\LocalCache\\local-packages\\Python37\\site-packages\\Bio\\PDB\\PDBParser.py:399: PDBConstructionWarning: Ignoring unrecognized record 'END' at line 250\n",
      "  PDBConstructionWarning,\n"
     ]
    },
    {
     "name": "stdout",
     "output_type": "stream",
     "text": [
      "['SER', 'MET', 'MET', 'GLY', 'LEU', 'LEU', 'THR', 'ASN', 'LEU', 'ALA', 'ASP', 'ARG', 'GLU', 'LEU', 'VAL', 'GLU', 'TRP', 'LEU', 'ILE', 'LEU', 'MET', 'ILE', 'GLY', 'LEU', 'ARG', 'LEU', 'LEU', 'PHE', 'VAL', 'MET', 'ILE', 'PHE', 'LEU', 'MET', 'SER', 'LYS', 'GLY', 'MET', 'GLU', 'HIS', 'LEU', 'TYR', 'SER', 'MET', 'LYS', 'SER', 'VAL', 'LEU', 'LEU', 'MET']\n",
      "['TYR', 'GLU', 'GLN', 'PRO', 'LEU', 'PHE', 'GLN', 'ILE', 'THR', 'GLU', 'MET', 'THR', 'ILE', 'LEU', 'THR', 'VAL', 'LEU', 'ILE', 'SER', 'VAL', 'MET', 'MET', 'LEU', 'ARG', 'VAL', 'ALA', 'ARG', 'ARG', 'TYR', 'VAL', 'LEU', 'PHE', 'ALA', 'ASN', 'TYR', 'MET', 'VAL', 'ILE', 'LEU', 'LEU', 'GLN', 'ASN', 'SER', 'ASN', 'MET', 'CYS', 'LEU', 'LYS', 'LEU', 'PRO', 'LEU', 'GLU', 'TRP']\n",
      "['PHE', 'ILE', 'THR', 'GLU', 'THR', 'ILE', 'THR', 'VAL', 'SER', 'SER', 'GLU', 'MET', 'MET', 'LEU', 'VAL', 'ALA', 'VAL', 'PHE', 'TYR', 'TYR', 'MET', 'TYR', 'VAL', 'ILE', 'GLU', 'ASP', 'LEU', 'LEU', 'PHE', 'THR', 'LEU', 'GLY', 'MET', 'GLN', 'ASN', 'SER', 'ASN', 'MET', 'CYS', 'ILE', 'SER', 'LEU', 'LYS', 'LYS', 'LEU', 'PRO', 'LEU', 'TRP']\n",
      "['PRO', 'VAL', 'THR', 'ASN', 'ILE', 'CYS', 'GLN', 'ALA', 'ALA', 'ASP', 'LYS', 'GLN', 'LEU', 'TRP', 'ASN', 'GLU', 'LEU', 'LEU', 'ILE', 'ALA', 'SER', 'PHE', 'SER', 'ARG', 'ILE', 'LEU', 'LEU', 'ALA', 'THR', 'VAL', 'ALA', 'ALA', 'GLY', 'VAL', 'GLY', 'ILE', 'PHE', 'ASP', 'VAL', 'ILE', 'GLY', 'LYS', 'CYS', 'LEU', 'GLU', 'HIS', 'LEU', 'PHE', 'LEU']\n"
     ]
    },
    {
     "name": "stderr",
     "output_type": "stream",
     "text": [
      "C:\\Users\\prash\\AppData\\Local\\Packages\\PythonSoftwareFoundation.Python.3.7_qbz5n2kfra8p0\\LocalCache\\local-packages\\Python37\\site-packages\\Bio\\PDB\\PDBParser.py:399: PDBConstructionWarning: Ignoring unrecognized record 'END' at line 370\n",
      "  PDBConstructionWarning,\n",
      "C:\\Users\\prash\\AppData\\Local\\Packages\\PythonSoftwareFoundation.Python.3.7_qbz5n2kfra8p0\\LocalCache\\local-packages\\Python37\\site-packages\\Bio\\PDB\\PDBParser.py:399: PDBConstructionWarning: Ignoring unrecognized record 'END' at line 145\n",
      "  PDBConstructionWarning,\n",
      "C:\\Users\\prash\\AppData\\Local\\Packages\\PythonSoftwareFoundation.Python.3.7_qbz5n2kfra8p0\\LocalCache\\local-packages\\Python37\\site-packages\\Bio\\PDB\\PDBParser.py:399: PDBConstructionWarning: Ignoring unrecognized record 'END' at line 148\n",
      "  PDBConstructionWarning,\n"
     ]
    },
    {
     "name": "stdout",
     "output_type": "stream",
     "text": [
      "['PRO', 'LYS', 'VAL', 'SER', 'TYR', 'LYS', 'PRO', 'PRO', 'ILE', 'PHE', 'SER', 'LEU', 'LEU', 'PRO', 'HIS', 'MET', 'ALA', 'ASP', 'MET', 'SER', 'THR', 'MET', 'PHE', 'ALA', 'PHE', 'GLU', 'CYS', 'GLN', 'PHE', 'ASN', 'VAL', 'PHE', 'TRP', 'CYS', 'SER', 'TYR', 'CYS', 'LEU', 'GLU', 'LEU', 'LEU', 'LEU', 'GLU', 'PRO', 'MET', 'LEU', 'HIS', 'ILE', 'GLN', 'HIS', 'THR', 'GLN', 'ARG', 'LEU', 'LEU', 'ARG', 'ILE', 'GLN', 'ASP', 'ILE', 'HIS', 'PHE', 'ALA', 'MET', 'LEU', 'PHE']\n",
      "['GLU', 'SER', 'TYR', 'TYR', 'GLY', 'PRO', 'LEU', 'THR', 'ARG', 'LEU', 'SER', 'GLY', 'SER', 'THR', 'LYS', 'THR', 'THR', 'TYR', 'LEU', 'LEU', 'GLU', 'SER', 'THR', 'MET', 'ASN', 'TYR']\n",
      "['GLU', 'SER', 'TYR', 'TYR', 'GLY', 'PRO', 'LEU', 'THR', 'ILE', 'ARG', 'LEU', 'THR', 'LEU', 'ASP', 'SER', 'GLY', 'SER', 'THR', 'LYS', 'THR', 'THR', 'PHE', 'LEU', 'LEU', 'GLU', 'SER', 'THR', 'MET', 'ASN', 'TYR']\n"
     ]
    },
    {
     "name": "stderr",
     "output_type": "stream",
     "text": [
      "C:\\Users\\prash\\AppData\\Local\\Packages\\PythonSoftwareFoundation.Python.3.7_qbz5n2kfra8p0\\LocalCache\\local-packages\\Python37\\site-packages\\Bio\\PDB\\PDBParser.py:399: PDBConstructionWarning: Ignoring unrecognized record 'END' at line 257\n",
      "  PDBConstructionWarning,\n",
      "C:\\Users\\prash\\AppData\\Local\\Packages\\PythonSoftwareFoundation.Python.3.7_qbz5n2kfra8p0\\LocalCache\\local-packages\\Python37\\site-packages\\Bio\\PDB\\PDBParser.py:399: PDBConstructionWarning: Ignoring unrecognized record 'END' at line 322\n",
      "  PDBConstructionWarning,\n"
     ]
    },
    {
     "name": "stdout",
     "output_type": "stream",
     "text": [
      "['ILE', 'LEU', 'GLU', 'GLU', 'TYR', 'VAL', 'LEU', 'VAL', 'ASP', 'GLY', 'LYS', 'TYR', 'GLY', 'ALA', 'GLN', 'ASP', 'ASN', 'GLY', 'MET', 'PRO', 'LEU', 'ALA', 'ILE', 'THR', 'ARG', 'LEU', 'GLY', 'ALA', 'VAL', 'GLU', 'ASP', 'GLY', 'ALA', 'THR', 'MET', 'THR', 'ARG', 'VAL', 'LYS', 'SER', 'ASN', 'GLU', 'GLU', 'ILE', 'PHE', 'LEU', 'MET', 'GLU', 'THR', 'THR', 'LYS', 'TYR']\n",
      "['ARG', 'PHE', 'ALA', 'HIS', 'PHE', 'THR', 'GLU', 'LEU', 'ALA', 'ILE', 'ILE', 'SER', 'VAL', 'GLU', 'ILE', 'THR', 'ILE', 'GLU', 'ILE', 'MET', 'LEU', 'LEU', 'GLU', 'THR', 'ALA', 'ARG', 'ARG', 'TYR', 'ILE', 'THR', 'PHE', 'LEU', 'LYS', 'PHE', 'TYR', 'SER', 'PHE', 'ALA', 'GLY', 'LEU', 'GLN', 'PHE', 'ILE', 'ASN', 'PRO', 'ILE', 'PHE', 'SER', 'ILE', 'LEU', 'HIS', 'SER', 'GLN', 'VAL', 'LEU', 'LEU', 'PRO', 'LEU', 'TRP']\n",
      "['ILE', 'VAL', 'GLN', 'GLU', 'ILE', 'VAL', 'ALA', 'PHE', 'ARG', 'GLN', 'ILE', 'ALA', 'LEU', 'LEU', 'LYS', 'ALA', 'THR', 'PRO', 'PRO', 'LEU', 'LEU', 'SER', 'GLU', 'ILE']\n",
      "['PHE', 'TRP', 'LYS', 'PHE', 'SER', 'GLU', 'LEU', 'ALA', 'THR', 'LYS', 'CYS', 'ILE', 'ILE', 'CYS', 'LEU', 'ILE', 'LEU', 'ILE', 'LEU', 'ARG', 'ILE', 'CYS', 'ARG', 'THR', 'PHE', 'SER', 'ASP', 'MET', 'ALA', 'GLY', 'PHE', 'GLY', 'LEU', 'THR', 'LEU', 'VAL', 'SER', 'ILE', 'SER', 'ALA', 'LYS', 'GLY', 'ALA', 'ARG', 'VAL', 'ILE', 'LEU', 'MET', 'PRO', 'ILE', 'MET', 'LEU']\n",
      "['ALA', 'GLU', 'LEU', 'ALA', 'VAL', 'ASP', 'PRO', 'PRO', 'VAL', 'THR', 'ASN', 'ILE', 'CYS', 'GLN', 'ALA', 'ALA', 'ASP', 'LYS', 'GLN', 'LEU', 'THR', 'LEU', 'TRP', 'ALA', 'ARG', 'TRP', 'ASN', 'GLU', 'LEU', 'LEU', 'ILE', 'ALA', 'GLY', 'PHE', 'SER', 'HIS', 'ARG', 'SER', 'ILE', 'LEU', 'LEU', 'ALA', 'THR', 'VAL', 'ALA', 'ALA', 'GLY', 'VAL', 'GLY', 'THR', 'ILE', 'PHE', 'ASP', 'ARG', 'VAL', 'LEU', 'LYS', 'LEU', 'ARG', 'ILE', 'GLY', 'LYS', 'CYS', 'LEU', 'GLU', 'HIS', 'LEU', 'PHE', 'PHE', 'PHE', 'LYS', 'LEU', 'GLY']\n"
     ]
    },
    {
     "name": "stderr",
     "output_type": "stream",
     "text": [
      "C:\\Users\\prash\\AppData\\Local\\Packages\\PythonSoftwareFoundation.Python.3.7_qbz5n2kfra8p0\\LocalCache\\local-packages\\Python37\\site-packages\\Bio\\PDB\\PDBParser.py:399: PDBConstructionWarning: Ignoring unrecognized record 'END' at line 117\n",
      "  PDBConstructionWarning,\n",
      "C:\\Users\\prash\\AppData\\Local\\Packages\\PythonSoftwareFoundation.Python.3.7_qbz5n2kfra8p0\\LocalCache\\local-packages\\Python37\\site-packages\\Bio\\PDB\\PDBParser.py:399: PDBConstructionWarning: Ignoring unrecognized record 'END' at line 252\n",
      "  PDBConstructionWarning,\n",
      "C:\\Users\\prash\\AppData\\Local\\Packages\\PythonSoftwareFoundation.Python.3.7_qbz5n2kfra8p0\\LocalCache\\local-packages\\Python37\\site-packages\\Bio\\PDB\\PDBParser.py:399: PDBConstructionWarning: Ignoring unrecognized record 'END' at line 402\n",
      "  PDBConstructionWarning,\n",
      "C:\\Users\\prash\\AppData\\Local\\Packages\\PythonSoftwareFoundation.Python.3.7_qbz5n2kfra8p0\\LocalCache\\local-packages\\Python37\\site-packages\\Bio\\PDB\\PDBParser.py:399: PDBConstructionWarning: Ignoring unrecognized record 'END' at line 239\n",
      "  PDBConstructionWarning,\n",
      "C:\\Users\\prash\\AppData\\Local\\Packages\\PythonSoftwareFoundation.Python.3.7_qbz5n2kfra8p0\\LocalCache\\local-packages\\Python37\\site-packages\\Bio\\PDB\\PDBParser.py:399: PDBConstructionWarning: Ignoring unrecognized record 'END' at line 248\n",
      "  PDBConstructionWarning,\n",
      "C:\\Users\\prash\\AppData\\Local\\Packages\\PythonSoftwareFoundation.Python.3.7_qbz5n2kfra8p0\\LocalCache\\local-packages\\Python37\\site-packages\\Bio\\PDB\\PDBParser.py:399: PDBConstructionWarning: Ignoring unrecognized record 'END' at line 201\n",
      "  PDBConstructionWarning,\n"
     ]
    },
    {
     "name": "stdout",
     "output_type": "stream",
     "text": [
      "['MET', 'MET', 'LEU', 'LEU', 'THR', 'ASN', 'LEU', 'ALA', 'ASP', 'ARG', 'GLU', 'LEU', 'TRP', 'LEU', 'ILE', 'LEU', 'MET', 'ILE', 'GLY', 'LEU', 'ARG', 'LEU', 'LEU', 'PHE', 'ALA', 'VAL', 'GLU', 'GLY', 'MET', 'VAL', 'ILE', 'LEU', 'MET', 'SER', 'LYS', 'GLY', 'MET', 'HIS', 'LEU', 'TYR', 'SER', 'MET', 'LEU', 'LEU', 'LEU', 'MET']\n",
      "['ILE', 'HIS', 'GLN', 'GLU', 'PRO', 'VAL', 'VAL', 'ASP', 'GLY', 'LYS', 'PHE', 'GLY', 'THR', 'GLN', 'GLU', 'ASN', 'GLY', 'MET', 'PRO', 'LEU', 'THR', 'ILE', 'ASN', 'ARG', 'GLN', 'LEU', 'VAL', 'LYS', 'GLN', 'SER', 'SER', 'VAL', 'ASP', 'TYR', 'GLU', 'SER', 'ALA', 'ALA', 'GLU', 'ILE', 'PHE', 'TRP', 'ASP', 'VAL', 'LEU', 'PHE', 'GLU', 'PHE']\n",
      "['LEU', 'LEU', 'SER', 'THR', 'LEU', 'ASN', 'ARG', 'LEU', 'ALA', 'GLY', 'GLN', 'TRP', 'MET', 'CYS', 'LEU', 'SER', 'PHE', 'ALA', 'LEU', 'SER', 'ARG', 'LEU', 'TYR', 'PHE', 'ALA', 'SER', 'MET', 'LEU', 'MET', 'ASP', 'LEU', 'LEU', 'PHE', 'CYS', 'PHE', 'THR', 'PHE', 'VAL', 'GLU', 'PHE', 'LEU', 'ILE']\n",
      "['ILE', 'LEU', 'GLU', 'GLU', 'TYR', 'ASP', 'GLY', 'LYS', 'TYR', 'GLY', 'ALA', 'GLN', 'ASP', 'ASP', 'GLN', 'TRP', 'ASN', 'GLY', 'PRO', 'LEU', 'ALA', 'THR', 'TYR', 'VAL', 'ARG', 'ALA', 'VAL', 'GLU', 'ASP', 'GLY', 'ALA', 'THR', 'MET', 'THR', 'LYS', 'LYS', 'TRP', 'ARG', 'LEU', 'VAL', 'LYS', 'SER', 'ASN', 'GLU', 'GLU', 'PHE', 'LEU', 'MET', 'GLU', 'THR', 'THR', 'LYS', 'TYR']\n",
      "['LEU', 'LEU', 'SER', 'THR', 'LEU', 'ASN', 'ARG', 'LEU', 'ALA', 'GLY', 'GLN', 'MET', 'TRP', 'MET', 'LEU', 'SER', 'SER', 'PHE', 'ALA', 'LEU', 'ARG', 'TYR', 'PHE', 'ALA', 'SER', 'MET', 'LEU', 'CYS', 'MET', 'VAL', 'ASP', 'LEU', 'LEU', 'GLU', 'PHE', 'CYS', 'PHE', 'THR', 'PHE', 'VAL', 'GLU', 'PHE', 'LEU', 'ILE']\n"
     ]
    },
    {
     "name": "stderr",
     "output_type": "stream",
     "text": [
      "C:\\Users\\prash\\AppData\\Local\\Packages\\PythonSoftwareFoundation.Python.3.7_qbz5n2kfra8p0\\LocalCache\\local-packages\\Python37\\site-packages\\Bio\\PDB\\PDBParser.py:399: PDBConstructionWarning: Ignoring unrecognized record 'END' at line 321\n",
      "  PDBConstructionWarning,\n",
      "C:\\Users\\prash\\AppData\\Local\\Packages\\PythonSoftwareFoundation.Python.3.7_qbz5n2kfra8p0\\LocalCache\\local-packages\\Python37\\site-packages\\Bio\\PDB\\PDBParser.py:399: PDBConstructionWarning: Ignoring unrecognized record 'END' at line 201\n",
      "  PDBConstructionWarning,\n",
      "C:\\Users\\prash\\AppData\\Local\\Packages\\PythonSoftwareFoundation.Python.3.7_qbz5n2kfra8p0\\LocalCache\\local-packages\\Python37\\site-packages\\Bio\\PDB\\PDBParser.py:399: PDBConstructionWarning: Ignoring unrecognized record 'END' at line 287\n",
      "  PDBConstructionWarning,\n"
     ]
    },
    {
     "name": "stdout",
     "output_type": "stream",
     "text": [
      "['ASN', 'SER', 'ARG', 'PHE', 'ALA', 'HIS', 'PHE', 'THR', 'GLU', 'LEU', 'ALA', 'ILE', 'VAL', 'SER', 'VAL', 'GLU', 'ILE', 'ALA', 'ILE', 'GLU', 'VAL', 'MET', 'LEU', 'LEU', 'GLU', 'THR', 'SER', 'ARG', 'ARG', 'ILE', 'THR', 'PHE', 'LEU', 'LYS', 'TYR', 'PHE', 'ALA', 'GLY', 'LEU', 'GLN', 'PHE', 'ILE', 'ILE', 'ILE', 'HIS', 'SER', 'GLN', 'VAL', 'PHE', 'ALA', 'LEU', 'GLN', 'LYS', 'LEU', 'PRO', 'LEU', 'TRP', 'ASP']\n",
      "['LEU', 'LEU', 'SER', 'LEU', 'ASN', 'GLU', 'LEU', 'GLY', 'GLU', 'GLN', 'TRP', 'MET', 'GLY', 'LEU', 'MET', 'VAL', 'PHE', 'ALA', 'MET', 'GLY', 'ARG', 'TYR', 'PHE', 'ALA', 'LEU', 'PHE', 'MET', 'CYS', 'MET', 'LEU', 'HIS', 'PHE', 'THR', 'PHE', 'LEU', 'LEU', 'VAL', 'PHE', 'PRO', 'MET', 'ALA', 'ILE']\n",
      "['ASP', 'ALA', 'TYR', 'SER', 'SER', 'MET', 'VAL', 'LYS', 'SER', 'TRP', 'VAL', 'TYR', 'SER', 'GLN', 'HIS', 'TYR', 'SER', 'CYS', 'CYS', 'GLU', 'TYR', 'ASP']\n"
     ]
    },
    {
     "name": "stderr",
     "output_type": "stream",
     "text": [
      "C:\\Users\\prash\\AppData\\Local\\Packages\\PythonSoftwareFoundation.Python.3.7_qbz5n2kfra8p0\\LocalCache\\local-packages\\Python37\\site-packages\\Bio\\PDB\\PDBParser.py:399: PDBConstructionWarning: Ignoring unrecognized record 'END' at line 196\n",
      "  PDBConstructionWarning,\n",
      "C:\\Users\\prash\\AppData\\Local\\Packages\\PythonSoftwareFoundation.Python.3.7_qbz5n2kfra8p0\\LocalCache\\local-packages\\Python37\\site-packages\\Bio\\PDB\\PDBParser.py:399: PDBConstructionWarning: Ignoring unrecognized record 'END' at line 115\n",
      "  PDBConstructionWarning,\n",
      "C:\\Users\\prash\\AppData\\Local\\Packages\\PythonSoftwareFoundation.Python.3.7_qbz5n2kfra8p0\\LocalCache\\local-packages\\Python37\\site-packages\\Bio\\PDB\\PDBParser.py:399: PDBConstructionWarning: Ignoring unrecognized record 'END' at line 179\n",
      "  PDBConstructionWarning,\n",
      "C:\\Users\\prash\\AppData\\Local\\Packages\\PythonSoftwareFoundation.Python.3.7_qbz5n2kfra8p0\\LocalCache\\local-packages\\Python37\\site-packages\\Bio\\PDB\\PDBParser.py:399: PDBConstructionWarning: Ignoring unrecognized record 'END' at line 156\n",
      "  PDBConstructionWarning,\n"
     ]
    },
    {
     "name": "stdout",
     "output_type": "stream",
     "text": [
      "['ASP', 'ILE', 'ALA', 'TYR', 'SER', 'VAL', 'LYS', 'PHE', 'GLY', 'SER', 'TRP', 'VAL', 'TYR', 'SER', 'GLY', 'PHE', 'GLU', 'ILE', 'ASP', 'LEU', 'GLN', 'VAL', 'GLN', 'HIS', 'TYR', 'CYS', 'CYS', 'GLU', 'PRO', 'TYR', 'ILE', 'ASP', 'VAL']\n",
      "['ASP', 'ILE', 'THR', 'ALA', 'TYR', 'SER', 'LYS', 'PHE', 'GLY', 'SER', 'TRP', 'VAL', 'TYR', 'LEU', 'GLN', 'VAL', 'GLN', 'HIS', 'TYR', 'SER', 'CYS', 'CYS', 'GLU', 'PRO', 'TYR', 'ILE', 'ASP', 'VAL']\n",
      "['THR', 'ILE', 'LEU', 'GLU', 'GLU', 'PRO', 'TYR', 'VAL', 'MET', 'VAL', 'ASP', 'GLY', 'LYS', 'TYR', 'GLY', 'ALA', 'GLN', 'ASN', 'ASP', 'GLU', 'TRP', 'ASN', 'GLY', 'PRO', 'LEU', 'THR', 'ILE', 'THR', 'TYR', 'VAL', 'ARG', 'LYS', 'LEU', 'ILE', 'ALA', 'VAL', 'ARG', 'ASP', 'GLY', 'SER', 'THR', 'MET', 'THR', 'PHE', 'PHE', 'LYS', 'LYS', 'SER', 'VAL', 'LYS', 'ASN', 'SER', 'ASP', 'GLU', 'ILE', 'LEU', 'LEU', 'MET', 'GLU', 'SER', 'THR', 'SER', 'ILE', 'GLU', 'TYR', 'VAL', 'THR', 'ARG', 'ASP', 'SER', 'LYS', 'GLY', 'TYR', 'TRP']\n",
      "['ILE', 'LEU', 'GLU', 'GLU', 'PRO', 'TYR', 'VAL', 'MET', 'LEU', 'VAL', 'ASP', 'GLY', 'LYS', 'TYR', 'GLY', 'ALA', 'GLN', 'ASN', 'GLU', 'TRP', 'ASN', 'GLY', 'VAL', 'PRO', 'LEU', 'THR', 'ILE', 'THR', 'TYR', 'VAL', 'ARG', 'LEU', 'ILE', 'ALA', 'VAL', 'ARG', 'ASP', 'GLY', 'SER', 'THR', 'MET', 'THR', 'PHE', 'PHE', 'LYS', 'LYS', 'SER', 'LEU', 'VAL', 'LYS', 'ASN', 'SER', 'ASP', 'GLU', 'ILE', 'LEU', 'LEU', 'MET', 'GLU', 'SER', 'THR', 'SER', 'ILE', 'GLU', 'TYR', 'VAL', 'THR', 'GLN', 'ARG', 'ASN', 'ILE', 'ASP', 'SER', 'LYS', 'GLY', 'TYR', 'TRP']\n"
     ]
    },
    {
     "name": "stderr",
     "output_type": "stream",
     "text": [
      "C:\\Users\\prash\\AppData\\Local\\Packages\\PythonSoftwareFoundation.Python.3.7_qbz5n2kfra8p0\\LocalCache\\local-packages\\Python37\\site-packages\\Bio\\PDB\\PDBParser.py:399: PDBConstructionWarning: Ignoring unrecognized record 'END' at line 488\n",
      "  PDBConstructionWarning,\n",
      "C:\\Users\\prash\\AppData\\Local\\Packages\\PythonSoftwareFoundation.Python.3.7_qbz5n2kfra8p0\\LocalCache\\local-packages\\Python37\\site-packages\\Bio\\PDB\\PDBParser.py:399: PDBConstructionWarning: Ignoring unrecognized record 'END' at line 488\n",
      "  PDBConstructionWarning,\n",
      "C:\\Users\\prash\\AppData\\Local\\Packages\\PythonSoftwareFoundation.Python.3.7_qbz5n2kfra8p0\\LocalCache\\local-packages\\Python37\\site-packages\\Bio\\PDB\\PDBParser.py:399: PDBConstructionWarning: Ignoring unrecognized record 'END' at line 118\n",
      "  PDBConstructionWarning,\n",
      "C:\\Users\\prash\\AppData\\Local\\Packages\\PythonSoftwareFoundation.Python.3.7_qbz5n2kfra8p0\\LocalCache\\local-packages\\Python37\\site-packages\\Bio\\PDB\\PDBParser.py:399: PDBConstructionWarning: Ignoring unrecognized record 'END' at line 325\n",
      "  PDBConstructionWarning,\n"
     ]
    },
    {
     "name": "stdout",
     "output_type": "stream",
     "text": [
      "['SER', 'LEU', 'GLN', 'SER', 'ALA', 'TRP', 'MET', 'GLU', 'LEU', 'ARG', 'SER', 'THR', 'LYS', 'VAL', 'GLN', 'HIS', 'TYR', 'GLU', 'MET', 'LEU', 'GLU', 'ALA', 'LYS']\n",
      "['THR', 'TYR', 'ASP', 'ASP', 'SER', 'TYR', 'SER', 'ASP', 'PHE', 'PHE', 'MET', 'LEU', 'PRO', 'HIS', 'LEU', 'ALA', 'ASP', 'LEU', 'VAL', 'SER', 'TYR', 'SER', 'ILE', 'LYS', 'ALA', 'ILE', 'ILE', 'ILE', 'MET', 'LEU', 'ARG', 'SER', 'ASN', 'GLN', 'SER', 'PHE', 'TRP', 'SER', 'CYS', 'PHE', 'TYR', 'CYS', 'ASP', 'VAL', 'ALA', 'GLY', 'HIS', 'LEU', 'LEU', 'LEU', 'GLN', 'HIS', 'GLN', 'TYR', 'LEU', 'LEU', 'THR', 'VAL', 'PHE']\n",
      "['HIS', 'THR', 'TYR', 'ASP', 'ASP', 'SER', 'TYR', 'SER', 'ASP', 'PHE', 'PHE', 'MET', 'LEU', 'PRO', 'HIS', 'LEU', 'ALA', 'ASP', 'LEU', 'VAL', 'SER', 'TYR', 'SER', 'ILE', 'LYS', 'VAL', 'ILE', 'GLU', 'ILE', 'ILE', 'MET', 'LEU', 'ARG', 'SER', 'ASN', 'GLN', 'SER', 'PHE', 'TRP', 'SER', 'CYS', 'PHE', 'TYR', 'CYS', 'ASP', 'VAL', 'THR', 'ALA', 'GLY', 'HIS', 'THR', 'LEU', 'LEU', 'GLU', 'PRO', 'LEU', 'PHE', 'GLN', 'SER', 'LEU', 'ASN', 'GLU', 'GLU', 'HIS', 'SER', 'GLN', 'TYR', 'ARG', 'LEU', 'SER', 'GLN', 'LEU', 'THR', 'VAL', 'PHE']\n",
      "['MET', 'PHE', 'GLU', 'GLY', 'PHE', 'PHE', 'ALA', 'THR', 'LEU', 'GLY', 'GLY', 'GLU', 'ILE', 'ALA', 'LEU', 'TRP', 'CYS', 'ALA', 'SER', 'TYR', 'GLU', 'SER', 'CYS', 'GLY', 'ILE', 'ASP', 'TYR', 'PHE', 'VAL', 'ILE', 'TYR', 'MET', 'PHE', 'VAL', 'VAL', 'HIS', 'PHE', 'ILE', 'LEU', 'PHE', 'CYS', 'TRP', 'LEU', 'PRO', 'TYR', 'ALA', 'GLY', 'VAL', 'ALA', 'PHE', 'TYR', 'MET', 'THR', 'PRO', 'ALA', 'PHE', 'PHE', 'ALA', 'LYS', 'THR', 'SER', 'ALA', 'ZN']\n"
     ]
    },
    {
     "name": "stderr",
     "output_type": "stream",
     "text": [
      "C:\\Users\\prash\\AppData\\Local\\Packages\\PythonSoftwareFoundation.Python.3.7_qbz5n2kfra8p0\\LocalCache\\local-packages\\Python37\\site-packages\\Bio\\PDB\\PDBParser.py:399: PDBConstructionWarning: Ignoring unrecognized record 'END' at line 390\n",
      "  PDBConstructionWarning,\n",
      "C:\\Users\\prash\\AppData\\Local\\Packages\\PythonSoftwareFoundation.Python.3.7_qbz5n2kfra8p0\\LocalCache\\local-packages\\Python37\\site-packages\\Bio\\PDB\\PDBParser.py:399: PDBConstructionWarning: Ignoring unrecognized record 'END' at line 309\n",
      "  PDBConstructionWarning,\n",
      "C:\\Users\\prash\\AppData\\Local\\Packages\\PythonSoftwareFoundation.Python.3.7_qbz5n2kfra8p0\\LocalCache\\local-packages\\Python37\\site-packages\\Bio\\PDB\\PDBParser.py:399: PDBConstructionWarning: Ignoring unrecognized record 'END' at line 193\n",
      "  PDBConstructionWarning,\n",
      "C:\\Users\\prash\\AppData\\Local\\Packages\\PythonSoftwareFoundation.Python.3.7_qbz5n2kfra8p0\\LocalCache\\local-packages\\Python37\\site-packages\\Bio\\PDB\\PDBParser.py:399: PDBConstructionWarning: Ignoring unrecognized record 'END' at line 393\n",
      "  PDBConstructionWarning,\n"
     ]
    },
    {
     "name": "stdout",
     "output_type": "stream",
     "text": [
      "['MET', 'MET', 'MET', 'SER', 'LEU', 'THR', 'LYS', 'LEU', 'ALA', 'ASP', 'GLU', 'LEU', 'TRP', 'MET', 'GLU', 'VAL', 'LEU', 'MET', 'MET', 'GLY', 'LEU', 'MET', 'ARG', 'LEU', 'ILE', 'PHE', 'GLY', 'ILE', 'ILE', 'PHE', 'LEU', 'ALA', 'LYS', 'GLY', 'MET', 'GLU', 'HIS', 'LEU', 'LEU', 'MET', 'VAL', 'VAL', 'TYR']\n",
      "['PHE', 'PRO', 'LEU', 'THR', 'ALA', 'ILE', 'SER', 'LEU', 'MET', 'MET', 'GLY', 'GLU', 'ASP', 'ILE', 'LYS', 'PHE', 'LYS', 'HIS', 'ILE', 'THR', 'GLU', 'VAL', 'ALA', 'ILE', 'ARG', 'ILE', 'PHE', 'GLN', 'GLY', 'CYS', 'GLN', 'PHE', 'ARG', 'SER', 'VAL', 'GLU', 'ALA', 'VAL', 'GLU', 'ILE', 'VAL', 'HIS', 'ILE', 'ILE', 'TYR', 'THR', 'MET', 'LEU', 'ALA', 'SER', 'LEU', 'MET', 'VAL', 'LEU', 'ILE', 'SER', 'GLU', 'GLY', 'GLN', 'GLY', 'MET', 'PHE', 'LEU', 'LEU', 'PHE', 'PHE', 'MET', 'LYS', 'PHE', 'HIS', 'LEU', 'LEU', 'TYR']\n",
      "['THR', 'HIS', 'VAL', 'GLN', 'LEU', 'LEU', 'GLN', 'VAL', 'ILE', 'LYS', 'LEU', 'LEU', 'GLN', 'GLU', 'ILE', 'TYR', 'LYS', 'ASP', 'LEU']\n"
     ]
    },
    {
     "name": "stderr",
     "output_type": "stream",
     "text": [
      "C:\\Users\\prash\\AppData\\Local\\Packages\\PythonSoftwareFoundation.Python.3.7_qbz5n2kfra8p0\\LocalCache\\local-packages\\Python37\\site-packages\\Bio\\PDB\\PDBParser.py:399: PDBConstructionWarning: Ignoring unrecognized record 'END' at line 98\n",
      "  PDBConstructionWarning,\n",
      "C:\\Users\\prash\\AppData\\Local\\Packages\\PythonSoftwareFoundation.Python.3.7_qbz5n2kfra8p0\\LocalCache\\local-packages\\Python37\\site-packages\\Bio\\PDB\\PDBParser.py:399: PDBConstructionWarning: Ignoring unrecognized record 'END' at line 176\n",
      "  PDBConstructionWarning,\n",
      "C:\\Users\\prash\\AppData\\Local\\Packages\\PythonSoftwareFoundation.Python.3.7_qbz5n2kfra8p0\\LocalCache\\local-packages\\Python37\\site-packages\\Bio\\PDB\\PDBParser.py:399: PDBConstructionWarning: Ignoring unrecognized record 'END' at line 369\n",
      "  PDBConstructionWarning,\n",
      "C:\\Users\\prash\\AppData\\Local\\Packages\\PythonSoftwareFoundation.Python.3.7_qbz5n2kfra8p0\\LocalCache\\local-packages\\Python37\\site-packages\\Bio\\PDB\\PDBParser.py:399: PDBConstructionWarning: Ignoring unrecognized record 'END' at line 175\n",
      "  PDBConstructionWarning,\n"
     ]
    },
    {
     "name": "stdout",
     "output_type": "stream",
     "text": [
      "['LEU', 'LEU', 'SER', 'LEU', 'ASN', 'GLU', 'LEU', 'GLY', 'GLU', 'GLN', 'TRP', 'MET', 'GLY', 'LEU', 'MET', 'VAL', 'PHE', 'ALA', 'MET', 'GLY', 'ARG', 'TYR', 'PHE', 'ALA', 'LEU', 'PHE', 'MET', 'CYS', 'MET', 'LEU', 'PHE', 'THR', 'PHE', 'LEU', 'LEU', 'VAL', 'PHE', 'MET', 'ILE']\n",
      "['ASN', 'MET', 'PRO', 'PHE', 'VAL', 'ILE', 'THR', 'LEU', 'TRP', 'GLN', 'ALA', 'GLU', 'LYS', 'LEU', 'ILE', 'SER', 'VAL', 'HIS', 'VAL', 'PHE', 'TYR', 'ARG', 'CYS', 'GLN', 'CYS', 'THR', 'THR', 'VAL', 'GLU', 'THR', 'GLU', 'HIS', 'ILE', 'PHE', 'MET', 'LEU', 'ALA', 'ILE', 'VAL', 'LEU', 'LEU', 'VAL', 'ALA', 'ASN', 'GLY', 'SER', 'GLY', 'PHE', 'VAL', 'THR', 'ARG', 'PHE', 'LEU', 'LEU', 'PRO', 'PHE', 'SER', 'ILE', 'ILE', 'GLU', 'PRO', 'LYS', 'PHE', 'ALA', 'HIS', 'MET', 'ILE', 'LEU', 'LEU', 'TYR']\n",
      "['VAL', 'LEU', 'SER', 'LEU', 'ASN', 'GLU', 'LEU', 'GLY', 'GLU', 'GLN', 'TRP', 'MET', 'GLY', 'LEU', 'MET', 'VAL', 'PHE', 'ALA', 'MET', 'GLY', 'ARG', 'LEU', 'TYR', 'PHE', 'ALA', 'LEU', 'PHE', 'MET', 'CYS', 'MET', 'LEU', 'HIS', 'PHE', 'THR', 'LEU', 'PHE', 'MET', 'ILE']\n"
     ]
    },
    {
     "name": "stderr",
     "output_type": "stream",
     "text": [
      "C:\\Users\\prash\\AppData\\Local\\Packages\\PythonSoftwareFoundation.Python.3.7_qbz5n2kfra8p0\\LocalCache\\local-packages\\Python37\\site-packages\\Bio\\PDB\\PDBParser.py:399: PDBConstructionWarning: Ignoring unrecognized record 'END' at line 391\n",
      "  PDBConstructionWarning,\n",
      "C:\\Users\\prash\\AppData\\Local\\Packages\\PythonSoftwareFoundation.Python.3.7_qbz5n2kfra8p0\\LocalCache\\local-packages\\Python37\\site-packages\\Bio\\PDB\\PDBParser.py:399: PDBConstructionWarning: Ignoring unrecognized record 'END' at line 195\n",
      "  PDBConstructionWarning,\n",
      "C:\\Users\\prash\\AppData\\Local\\Packages\\PythonSoftwareFoundation.Python.3.7_qbz5n2kfra8p0\\LocalCache\\local-packages\\Python37\\site-packages\\Bio\\PDB\\PDBParser.py:399: PDBConstructionWarning: Ignoring unrecognized record 'END' at line 212\n",
      "  PDBConstructionWarning,\n",
      "C:\\Users\\prash\\AppData\\Local\\Packages\\PythonSoftwareFoundation.Python.3.7_qbz5n2kfra8p0\\LocalCache\\local-packages\\Python37\\site-packages\\Bio\\PDB\\PDBParser.py:399: PDBConstructionWarning: Ignoring unrecognized record 'END' at line 229\n",
      "  PDBConstructionWarning,\n"
     ]
    },
    {
     "name": "stdout",
     "output_type": "stream",
     "text": [
      "['TYR', 'SER', 'PHE', 'PRO', 'LEU', 'THR', 'LYS', 'LYS', 'ALA', 'PHE', 'ILE', 'ASP', 'MET', 'SER', 'ILE', 'ARG', 'ILE', 'PHE', 'GLN', 'GLY', 'CYS', 'GLN', 'PHE', 'ARG', 'SER', 'VAL', 'GLU', 'ALA', 'VAL', 'GLN', 'GLU', 'ILE', 'VAL', 'HIS', 'ILE', 'ILE', 'TYR', 'THR', 'MET', 'LEU', 'ALA', 'SER', 'LEU', 'MET', 'VAL', 'LEU', 'ILE', 'SER', 'GLU', 'GLY', 'GLN', 'GLY', 'PHE', 'MET', 'PHE', 'LEU', 'PHE', 'MET', 'LYS', 'PHE', 'ILE', 'HIS', 'LEU', 'ILE', 'LYS', 'SER', 'LEU', 'HIS', 'LEU', 'TYR']\n",
      "['LYS', 'TYR', 'GLY', 'ALA', 'GLN', 'ASN', 'GLU', 'TRP', 'ASN', 'VAL', 'THR', 'ILE', 'THR', 'TYR', 'VAL', 'ARG', 'LYS', 'ILE', 'ARG', 'ASP', 'GLY', 'SER', 'THR', 'MET', 'THR', 'PHE', 'PHE', 'LYS', 'LYS', 'SER', 'ILE', 'TYR', 'TRP', 'GLN', 'LEU', 'ILE', 'ASP', 'SER', 'LYS', 'GLY']\n",
      "['ALA', 'PRO', 'ALA', 'VAL', 'ALA', 'THR', 'LEU', 'SER', 'ASP', 'LEU', 'PHE', 'ASP', 'GLU', 'TRP', 'MET', 'VAL', 'LEU', 'VAL', 'LEU', 'GLY', 'VAL', 'ALA', 'ARG', 'LEU', 'ALA', 'PHE', 'ALA', 'LEU', 'LEU', 'GLY', 'ALA', 'ARG', 'ALA', 'ALA', 'GLY', 'LEU', 'GLY', 'LEU', 'GLY', 'LEU', 'THR', 'ALA', 'VAL', 'LEU', 'HIS', 'PHE', 'VAL', 'LYS', 'LEU']\n",
      "['ILE', 'GLU', 'THR', 'GLY', 'VAL', 'VAL', 'LEU', 'THR', 'LYS', 'GLY', 'ASN', 'LYS', 'GLU', 'MET', 'LYS', 'LEU', 'SER', 'SER', 'TYR', 'PHE', 'GLY', 'GLU', 'ILE', 'CYS', 'LEU', 'ARG', 'ARG', 'THR', 'ALA', 'SER', 'VAL', 'THR', 'VAL', 'ALA', 'ILE', 'ASP', 'ARG', 'LEU', 'ASP', 'ARG', 'ASP']\n"
     ]
    },
    {
     "name": "stderr",
     "output_type": "stream",
     "text": [
      "C:\\Users\\prash\\AppData\\Local\\Packages\\PythonSoftwareFoundation.Python.3.7_qbz5n2kfra8p0\\LocalCache\\local-packages\\Python37\\site-packages\\Bio\\PDB\\PDBParser.py:399: PDBConstructionWarning: Ignoring unrecognized record 'END' at line 414\n",
      "  PDBConstructionWarning,\n",
      "C:\\Users\\prash\\AppData\\Local\\Packages\\PythonSoftwareFoundation.Python.3.7_qbz5n2kfra8p0\\LocalCache\\local-packages\\Python37\\site-packages\\Bio\\PDB\\PDBParser.py:399: PDBConstructionWarning: Ignoring unrecognized record 'END' at line 475\n",
      "  PDBConstructionWarning,\n",
      "C:\\Users\\prash\\AppData\\Local\\Packages\\PythonSoftwareFoundation.Python.3.7_qbz5n2kfra8p0\\LocalCache\\local-packages\\Python37\\site-packages\\Bio\\PDB\\PDBParser.py:399: PDBConstructionWarning: Ignoring unrecognized record 'END' at line 377\n",
      "  PDBConstructionWarning,\n",
      "C:\\Users\\prash\\AppData\\Local\\Packages\\PythonSoftwareFoundation.Python.3.7_qbz5n2kfra8p0\\LocalCache\\local-packages\\Python37\\site-packages\\Bio\\PDB\\PDBParser.py:399: PDBConstructionWarning: Ignoring unrecognized record 'END' at line 315\n",
      "  PDBConstructionWarning,\n"
     ]
    },
    {
     "name": "stdout",
     "output_type": "stream",
     "text": [
      "['TYR', 'SER', 'PHE', 'PRO', 'LEU', 'THR', 'LYS', 'PHE', 'ILE', 'SER', 'LEU', 'GLY', 'GLU', 'ASP', 'GLU', 'VAL', 'ALA', 'ILE', 'ARG', 'ILE', 'PHE', 'GLN', 'GLY', 'GLN', 'PHE', 'ARG', 'SER', 'VAL', 'GLU', 'ALA', 'VAL', 'GLU', 'ILE', 'VAL', 'HIS', 'ILE', 'ILE', 'TYR', 'THR', 'MET', 'LEU', 'ALA', 'SER', 'LEU', 'MET', 'VAL', 'LEU', 'ILE', 'SER', 'GLU', 'GLY', 'GLN', 'GLY', 'PHE', 'MET', 'LEU', 'LEU', 'PRO', 'PHE', 'GLY', 'ASP', 'PHE', 'MET', 'LYS', 'PHE', 'ILE', 'HIS', 'LEU', 'LEU', 'LEU', 'TYR']\n",
      "['TYR', 'ASN', 'PHE', 'ASN', 'MET', 'THR', 'LYS', 'ALA', 'PRO', 'PHE', 'VAL', 'ILE', 'THR', 'LEU', 'GLN', 'ALA', 'GLU', 'LYS', 'GLY', 'LEU', 'SER', 'VAL', 'HIS', 'VAL', 'PHE', 'TYR', 'ARG', 'CYS', 'GLN', 'CYS', 'THR', 'THR', 'VAL', 'GLU', 'THR', 'VAL', 'GLU', 'LEU', 'LEU', 'LYS', 'VAL', 'HIS', 'ALA', 'ILE', 'PHE', 'ALA', 'MET', 'LEU', 'ALA', 'SER', 'ILE', 'VAL', 'LEU', 'LEU', 'VAL', 'ALA', 'ASN', 'GLY', 'SER', 'GLY', 'PHE', 'VAL', 'PHE', 'LEU', 'LEU', 'PHE', 'ILE', 'ILE', 'GLU', 'LYS', 'PHE', 'LEU', 'VAL', 'THR', 'GLU', 'HIS', 'ALA', 'GLN', 'MET', 'MET', 'GLN', 'ILE', 'LYS', 'LYS']\n",
      "['TYR', 'SER', 'PHE', 'PRO', 'LEU', 'THR', 'LYS', 'ALA', 'PHE', 'ILE', 'SER', 'LEU', 'MET', 'MET', 'GLY', 'GLU', 'ASP', 'GLU', 'VAL', 'ARG', 'ILE', 'PHE', 'GLN', 'GLY', 'CYS', 'GLN', 'PHE', 'ARG', 'SER', 'VAL', 'GLU', 'ALA', 'VAL', 'GLU', 'ILE', 'VAL', 'HIS', 'ILE', 'ILE', 'TYR', 'THR', 'MET', 'LEU', 'ALA', 'SER', 'LEU', 'MET', 'VAL', 'LEU', 'ILE', 'SER', 'GLU', 'GLY', 'GLN', 'GLY', 'PHE', 'MET', 'PHE', 'LEU', 'PHE', 'MET', 'LYS', 'PHE', 'ILE', 'ILE', 'HIS', 'LEU', 'LEU', 'TYR']\n",
      "['TYR', 'SER', 'PHE', 'PRO', 'LEU', 'THR', 'LYS', 'ALA', 'PHE', 'ILE', 'LEU', 'MET', 'GLY', 'GLU', 'ASP', 'VAL', 'ILE', 'ARG', 'ILE', 'PHE', 'GLN', 'GLY', 'CYS', 'GLN', 'PHE', 'ARG', 'SER', 'VAL', 'GLU', 'ALA', 'VAL', 'GLU', 'ILE', 'VAL', 'ILE', 'ILE', 'TYR', 'THR', 'MET', 'LEU', 'ALA', 'SER', 'LEU', 'MET', 'VAL', 'LEU', 'ILE', 'SER', 'GLU', 'GLY', 'GLN', 'GLY', 'MET', 'PHE', 'LEU', 'LEU', 'PHE', 'MET', 'PHE']\n",
      "['TYR', 'SER', 'PHE', 'PRO', 'LEU', 'THR', 'LYS', 'ALA', 'PHE', 'ILE', 'SER', 'LEU', 'MET', 'GLY', 'GLU', 'ASP', 'LYS', 'VAL', 'ARG', 'ILE', 'PHE', 'GLN', 'GLY', 'CYS', 'GLN', 'PHE', 'ARG', 'SER', 'VAL', 'GLU', 'ALA', 'VAL', 'GLU', 'ILE', 'VAL', 'ILE', 'ILE', 'TYR', 'THR', 'MET', 'LEU', 'ALA', 'SER', 'LEU', 'MET', 'VAL', 'LEU', 'ILE', 'SER', 'GLU', 'GLY', 'GLN', 'GLY', 'PHE', 'MET', 'PHE', 'LEU', 'LEU', 'PHE', 'MET', 'PHE', 'ASP', 'LEU']\n",
      "['TYR', 'SER', 'PHE', 'PRO', 'LEU', 'THR', 'LYS', 'ALA', 'SER', 'PRO', 'PHE', 'VAL', 'ILE', 'SER', 'LEU', 'MET', 'MET', 'GLY', 'GLU', 'ASP', 'GLU', 'VAL', 'ALA', 'ILE', 'ARG', 'ILE', 'PHE', 'GLN', 'GLY', 'CYS', 'GLN', 'PHE', 'ARG', 'SER', 'VAL', 'GLU', 'ALA', 'VAL', 'GLU', 'ILE', 'VAL', 'HIS', 'ILE', 'ILE', 'TYR', 'THR', 'MET', 'LEU', 'ALA', 'SER', 'LEU', 'MET', 'VAL', 'LEU', 'ILE', 'SER', 'GLU', 'GLY', 'GLN', 'GLY', 'PHE', 'MET', 'PHE', 'LEU', 'LEU', 'GLY', 'ASP', 'PHE', 'MET', 'PRO', 'LYS', 'PHE', 'ASP', 'ILE', 'ILE', 'VAL', 'THR', 'GLU', 'HIS', 'PRO', 'LEU', 'LEU', 'TYR']\n"
     ]
    },
    {
     "name": "stderr",
     "output_type": "stream",
     "text": [
      "C:\\Users\\prash\\AppData\\Local\\Packages\\PythonSoftwareFoundation.Python.3.7_qbz5n2kfra8p0\\LocalCache\\local-packages\\Python37\\site-packages\\Bio\\PDB\\PDBParser.py:399: PDBConstructionWarning: Ignoring unrecognized record 'END' at line 334\n",
      "  PDBConstructionWarning,\n",
      "C:\\Users\\prash\\AppData\\Local\\Packages\\PythonSoftwareFoundation.Python.3.7_qbz5n2kfra8p0\\LocalCache\\local-packages\\Python37\\site-packages\\Bio\\PDB\\PDBParser.py:399: PDBConstructionWarning: Ignoring unrecognized record 'END' at line 457\n",
      "  PDBConstructionWarning,\n",
      "C:\\Users\\prash\\AppData\\Local\\Packages\\PythonSoftwareFoundation.Python.3.7_qbz5n2kfra8p0\\LocalCache\\local-packages\\Python37\\site-packages\\Bio\\PDB\\PDBParser.py:399: PDBConstructionWarning: Ignoring unrecognized record 'END' at line 163\n",
      "  PDBConstructionWarning,\n"
     ]
    },
    {
     "name": "stdout",
     "output_type": "stream",
     "text": [
      "['HIS', 'ILE', 'LYS', 'GLU', 'ALA', 'ILE', 'ARG', 'PHE', 'GLN', 'GLY', 'GLN', 'PHE', 'HIS', 'PHE', 'VAL', 'HIS', 'VAL', 'GLN', 'LEU', 'GLN', 'ILE', 'HIS', 'LEU', 'GLN', 'GLU', 'ILE', 'TYR', 'LYS', 'ASP']\n",
      "['THR', 'ILE', 'LEU', 'GLU', 'GLU', 'PRO', 'TYR', 'VAL', 'MET', 'VAL', 'ASP', 'GLY', 'LYS', 'TYR', 'GLY', 'ALA', 'GLN', 'ASN', 'TRP', 'ASN', 'GLY', 'VAL', 'PRO', 'LEU', 'THR', 'ILE', 'THR', 'TYR', 'VAL', 'ARG', 'LEU', 'ILE', 'GLY', 'ALA', 'VAL', 'ARG', 'ASP', 'GLY', 'SER', 'THR', 'MET', 'THR', 'PHE', 'PHE', 'LYS', 'SER', 'VAL', 'LYS', 'ASN', 'SER', 'ASP', 'GLU', 'ILE', 'LEU', 'LEU', 'MET', 'GLU', 'SER', 'THR', 'SER', 'ILE', 'GLU', 'TYR', 'VAL', 'THR', 'ARG', 'ASN', 'ILE', 'ASP', 'SER', 'LYS', 'GLY', 'TYR', 'TRP']\n",
      "['TRP', 'MET', 'VAL', 'PHE', 'GLY', 'ALA', 'ALA', 'HIS', 'ILE', 'LEU', 'MET', 'LYS', 'MET', 'TRP', 'CYS', 'TRP', 'THR', 'SER', 'ASP', 'VAL', 'LEU', 'VAL', 'THR', 'ILE', 'THR', 'SER', 'ILE', 'TYR', 'ARG', 'ALA', 'THR', 'HIS', 'CYS', 'TYR', 'THR', 'CYS', 'CYS', 'ASP', 'PHE', 'PHE', 'THR', 'ASN', 'GLN', 'ALA', 'TYR', 'ALA', 'ILE', 'ALA', 'SER', 'SER', 'ILE', 'SER', 'PHE', 'TRP', 'PHE', 'PHE', 'VAL', 'ASN', 'ILE', 'VAL', 'HIS', 'VAL', 'ILE', 'GLN', 'ASP', 'ASN', 'LEU', 'ILE', 'ARG', 'LYS', 'GLU', 'VAL', 'TYR', 'ILE', 'LEU', 'ASN', 'TRP', 'TYR']\n"
     ]
    },
    {
     "name": "stderr",
     "output_type": "stream",
     "text": [
      "C:\\Users\\prash\\AppData\\Local\\Packages\\PythonSoftwareFoundation.Python.3.7_qbz5n2kfra8p0\\LocalCache\\local-packages\\Python37\\site-packages\\Bio\\PDB\\PDBParser.py:399: PDBConstructionWarning: Ignoring unrecognized record 'END' at line 475\n",
      "  PDBConstructionWarning,\n",
      "C:\\Users\\prash\\AppData\\Local\\Packages\\PythonSoftwareFoundation.Python.3.7_qbz5n2kfra8p0\\LocalCache\\local-packages\\Python37\\site-packages\\Bio\\PDB\\PDBParser.py:399: PDBConstructionWarning: Ignoring unrecognized record 'END' at line 398\n",
      "  PDBConstructionWarning,\n",
      "C:\\Users\\prash\\AppData\\Local\\Packages\\PythonSoftwareFoundation.Python.3.7_qbz5n2kfra8p0\\LocalCache\\local-packages\\Python37\\site-packages\\Bio\\PDB\\PDBParser.py:399: PDBConstructionWarning: Ignoring unrecognized record 'END' at line 251\n",
      "  PDBConstructionWarning,\n",
      "C:\\Users\\prash\\AppData\\Local\\Packages\\PythonSoftwareFoundation.Python.3.7_qbz5n2kfra8p0\\LocalCache\\local-packages\\Python37\\site-packages\\Bio\\PDB\\PDBParser.py:399: PDBConstructionWarning: Ignoring unrecognized record 'END' at line 147\n",
      "  PDBConstructionWarning,\n"
     ]
    },
    {
     "name": "stdout",
     "output_type": "stream",
     "text": [
      "['LEU', 'LEU', 'THR', 'SER', 'LEU', 'ASN', 'GLN', 'LEU', 'GLY', 'GLU', 'ARG', 'GLN', 'LEU', 'LEU', 'TRP', 'MET', 'SER', 'LEU', 'MET', 'VAL', 'PHE', 'GLY', 'LEU', 'GLY', 'ARG', 'TYR', 'PHE', 'ALA', 'LEU', 'PHE', 'LEU', 'MET', 'GLN', 'LEU', 'HIS', 'LEU', 'TYR', 'CYS', 'LEU', 'THR', 'PHE', 'VAL', 'PHE', 'PRO', 'MET', 'MET', 'SER', 'VAL', 'ILE']\n",
      "['GLY', 'ALA', 'GLN', 'TRP', 'THR', 'ILE', 'THR', 'TYR', 'VAL', 'ARG', 'LEU', 'ILE', 'GLY', 'SER', 'THR', 'MET', 'THR', 'PHE', 'PHE', 'LYS', 'LYS', 'SER', 'LYS', 'ILE', 'TYR', 'GLU', 'ILE', 'ASP', 'SER', 'LYS', 'GLY']\n",
      "['THR', 'ALA', 'TYR', 'SER', 'LYS', 'GLY', 'SER', 'TRP', 'VAL', 'TYR', 'GLN', 'TYR', 'SER', 'CYS', 'CYS', 'TYR']\n",
      "['MET', 'LEU', 'ASP', 'PHE', 'MET', 'VAL', 'GLY', 'GLY', 'PHE', 'THR', 'GLN', 'GLY', 'PHE', 'ALA', 'THR', 'LEU', 'GLY', 'GLY', 'GLU', 'ALA', 'LEU', 'TRP', 'LEU', 'CYS', 'SER', 'TYR', 'GLU', 'CYS', 'SER', 'CYS', 'GLY', 'ILE', 'ASP', 'TYR', 'TYR', 'ASN', 'PHE', 'VAL', 'ILE', 'TYR', 'MET', 'PHE', 'VAL', 'VAL', 'HIS', 'PHE', 'ILE', 'PHE', 'CYS', 'TRP', 'LEU', 'PRO', 'TYR', 'ALA', 'GLY', 'VAL', 'ALA', 'PHE', 'PRO', 'ALA', 'PHE', 'PHE', 'ALA', 'LYS', 'THR', 'SER', 'ALA', 'TYR', 'ASN']\n"
     ]
    },
    {
     "name": "stderr",
     "output_type": "stream",
     "text": [
      "C:\\Users\\prash\\AppData\\Local\\Packages\\PythonSoftwareFoundation.Python.3.7_qbz5n2kfra8p0\\LocalCache\\local-packages\\Python37\\site-packages\\Bio\\PDB\\PDBParser.py:399: PDBConstructionWarning: Ignoring unrecognized record 'END' at line 103\n",
      "  PDBConstructionWarning,\n",
      "C:\\Users\\prash\\AppData\\Local\\Packages\\PythonSoftwareFoundation.Python.3.7_qbz5n2kfra8p0\\LocalCache\\local-packages\\Python37\\site-packages\\Bio\\PDB\\PDBParser.py:399: PDBConstructionWarning: Ignoring unrecognized record 'END' at line 330\n",
      "  PDBConstructionWarning,\n",
      "C:\\Users\\prash\\AppData\\Local\\Packages\\PythonSoftwareFoundation.Python.3.7_qbz5n2kfra8p0\\LocalCache\\local-packages\\Python37\\site-packages\\Bio\\PDB\\PDBParser.py:399: PDBConstructionWarning: Ignoring unrecognized record 'END' at line 443\n",
      "  PDBConstructionWarning,\n",
      "C:\\Users\\prash\\AppData\\Local\\Packages\\PythonSoftwareFoundation.Python.3.7_qbz5n2kfra8p0\\LocalCache\\local-packages\\Python37\\site-packages\\Bio\\PDB\\PDBParser.py:399: PDBConstructionWarning: Ignoring unrecognized record 'END' at line 119\n",
      "  PDBConstructionWarning,\n"
     ]
    },
    {
     "name": "stdout",
     "output_type": "stream",
     "text": [
      "['TYR', 'ASN', 'PHE', 'ASN', 'MET', 'THR', 'LYS', 'LYS', 'ALA', 'ILE', 'LEU', 'ALA', 'GLU', 'LEU', 'VAL', 'TRP', 'LYS', 'GLN', 'LEU', 'ILE', 'SER', 'VAL', 'HIS', 'VAL', 'PHE', 'TYR', 'ARG', 'CYS', 'GLN', 'CYS', 'THR', 'THR', 'VAL', 'GLU', 'THR', 'VAL', 'GLU', 'HIS', 'ALA', 'ILE', 'PHE', 'ALA', 'MET', 'LEU', 'ALA', 'SER', 'ILE', 'VAL', 'LEU', 'LEU', 'VAL', 'ALA', 'ASN', 'GLY', 'SER', 'GLY', 'VAL', 'THR', 'PHE', 'LEU', 'ARG', 'LEU', 'ARG', 'PRO', 'PHE', 'SER', 'ASP', 'ILE', 'ILE', 'GLU', 'LYS', 'PHE', 'ASP', 'LEU', 'HIS', 'MET', 'MET', 'ILE', 'LEU', 'LEU', 'TYR']\n",
      "['ASP', 'ILE', 'GLU', 'LEU', 'TRP', 'GLN', 'GLU', 'LYS', 'LEU', 'VAL', 'ASN', 'GLY', 'LEU', 'PRO', 'PRO', 'TYR', 'LYS', 'GLU', 'ILE', 'HIS', 'VAL', 'TYR', 'ARG']\n",
      "['TYR', 'ASN', 'PHE', 'ASN', 'MET', 'THR', 'LYS', 'ALA', 'ILE', 'LEU', 'ALA', 'GLU', 'VAL', 'TRP', 'LYS', 'GLN', 'LEU', 'LEU', 'ILE', 'SER', 'VAL', 'HIS', 'VAL', 'PHE', 'TYR', 'ARG', 'CYS', 'GLN', 'CYS', 'THR', 'THR', 'VAL', 'GLU', 'THR', 'ARG', 'GLU', 'HIS', 'ALA', 'ILE', 'PHE', 'ALA', 'MET', 'LEU', 'ALA', 'SER', 'ILE', 'VAL', 'LEU', 'LEU', 'VAL', 'ALA', 'ASN', 'GLY', 'SER', 'GLY', 'VAL', 'THR', 'PHE', 'LEU', 'ARG', 'LEU', 'PRO', 'PHE', 'SER', 'ASP', 'ILE', 'ILE', 'GLU', 'LYS', 'PHE', 'ASP', 'HIS', 'MET', 'ILE', 'LEU', 'HIS', 'LEU', 'TYR']\n"
     ]
    },
    {
     "name": "stderr",
     "output_type": "stream",
     "text": [
      "C:\\Users\\prash\\AppData\\Local\\Packages\\PythonSoftwareFoundation.Python.3.7_qbz5n2kfra8p0\\LocalCache\\local-packages\\Python37\\site-packages\\Bio\\PDB\\PDBParser.py:399: PDBConstructionWarning: Ignoring unrecognized record 'END' at line 431\n",
      "  PDBConstructionWarning,\n",
      "C:\\Users\\prash\\AppData\\Local\\Packages\\PythonSoftwareFoundation.Python.3.7_qbz5n2kfra8p0\\LocalCache\\local-packages\\Python37\\site-packages\\Bio\\PDB\\PDBParser.py:399: PDBConstructionWarning: Ignoring unrecognized record 'END' at line 362\n",
      "  PDBConstructionWarning,\n",
      "C:\\Users\\prash\\AppData\\Local\\Packages\\PythonSoftwareFoundation.Python.3.7_qbz5n2kfra8p0\\LocalCache\\local-packages\\Python37\\site-packages\\Bio\\PDB\\PDBParser.py:399: PDBConstructionWarning: Ignoring unrecognized record 'END' at line 366\n",
      "  PDBConstructionWarning,\n"
     ]
    },
    {
     "name": "stdout",
     "output_type": "stream",
     "text": [
      "['VAL', 'VAL', 'PHE', 'GLY', 'ALA', 'THR', 'LEU', 'VAL', 'VAL', 'ARG', 'GLY', 'THR', 'TRP', 'CYS', 'TRP', 'THR', 'SER', 'LEU', 'ASP', 'VAL', 'LEU', 'CYS', 'VAL', 'THR', 'VAL', 'ILE', 'TRP', 'ASP', 'ASP', 'GLN', 'ALA', 'CYS', 'TYR', 'GLY', 'CYS', 'CYS', 'ASP', 'PHE', 'VAL', 'THR', 'ASN', 'ARG', 'ALA', 'TYR', 'ALA', 'ILE', 'ALA', 'SER', 'SER', 'ILE', 'SER', 'PHE', 'TRP', 'PHE', 'PHE', 'VAL', 'ASN', 'ILE', 'VAL', 'ASN', 'VAL', 'VAL', 'PRO', 'ASP', 'TRP', 'LEU', 'PHE', 'VAL', 'ALA', 'PHE', 'ASN', 'TRP', 'TYR']\n",
      "['VAL', 'VAL', 'PHE', 'GLY', 'ALA', 'THR', 'LEU', 'VAL', 'VAL', 'ARG', 'GLY', 'THR', 'TRP', 'CYS', 'TRP', 'THR', 'SER', 'LEU', 'ASP', 'VAL', 'LEU', 'VAL', 'THR', 'ILE', 'ARG', 'ASP', 'GLU', 'ASP', 'PRO', 'GLN', 'ALA', 'CYS', 'GLY', 'CYS', 'CYS', 'ASP', 'PHE', 'VAL', 'THR', 'ASN', 'ARG', 'ALA', 'TYR', 'ALA', 'ILE', 'SER', 'SER', 'SER', 'PHE', 'TRP', 'PHE', 'PHE', 'VAL', 'ASN', 'ILE', 'VAL', 'ASN', 'VAL', 'ARG', 'VAL', 'PRO', 'ASP', 'TRP', 'PHE', 'VAL', 'ALA', 'PHE', 'ASN', 'TRP', 'TYR']\n",
      "['VAL', 'VAL', 'PHE', 'GLY', 'ALA', 'THR', 'LEU', 'VAL', 'GLY', 'THR', 'TRP', 'CYS', 'TRP', 'THR', 'SER', 'LEU', 'ASP', 'VAL', 'LEU', 'CYS', 'VAL', 'THR', 'ILE', 'ASP', 'GLN', 'ALA', 'CYS', 'GLY', 'CYS', 'CYS', 'ASP', 'PHE', 'VAL', 'THR', 'ASN', 'ARG', 'ALA', 'TYR', 'ALA', 'ILE', 'SER', 'SER', 'SER', 'PHE', 'TRP', 'PHE', 'PHE', 'VAL', 'ASN', 'ILE', 'VAL', 'ASN', 'VAL', 'PRO', 'ASP', 'TRP', 'PHE', 'VAL', 'ALA', 'PHE', 'ASN', 'TRP', 'TYR']\n"
     ]
    },
    {
     "name": "stderr",
     "output_type": "stream",
     "text": [
      "C:\\Users\\prash\\AppData\\Local\\Packages\\PythonSoftwareFoundation.Python.3.7_qbz5n2kfra8p0\\LocalCache\\local-packages\\Python37\\site-packages\\Bio\\PDB\\PDBParser.py:399: PDBConstructionWarning: Ignoring unrecognized record 'END' at line 326\n",
      "  PDBConstructionWarning,\n",
      "C:\\Users\\prash\\AppData\\Local\\Packages\\PythonSoftwareFoundation.Python.3.7_qbz5n2kfra8p0\\LocalCache\\local-packages\\Python37\\site-packages\\Bio\\PDB\\PDBParser.py:399: PDBConstructionWarning: Ignoring unrecognized record 'END' at line 358\n",
      "  PDBConstructionWarning,\n",
      "C:\\Users\\prash\\AppData\\Local\\Packages\\PythonSoftwareFoundation.Python.3.7_qbz5n2kfra8p0\\LocalCache\\local-packages\\Python37\\site-packages\\Bio\\PDB\\PDBParser.py:399: PDBConstructionWarning: Ignoring unrecognized record 'END' at line 292\n",
      "  PDBConstructionWarning,\n",
      "C:\\Users\\prash\\AppData\\Local\\Packages\\PythonSoftwareFoundation.Python.3.7_qbz5n2kfra8p0\\LocalCache\\local-packages\\Python37\\site-packages\\Bio\\PDB\\PDBParser.py:399: PDBConstructionWarning: Ignoring unrecognized record 'END' at line 225\n",
      "  PDBConstructionWarning,\n"
     ]
    },
    {
     "name": "stdout",
     "output_type": "stream",
     "text": [
      "['VAL', 'VAL', 'PHE', 'GLY', 'ALA', 'THR', 'LEU', 'VAL', 'VAL', 'GLY', 'THR', 'TRP', 'CYS', 'TRP', 'THR', 'SER', 'ASP', 'VAL', 'LEU', 'CYS', 'VAL', 'THR', 'ILE', 'TRP', 'ASP', 'GLU', 'ASP', 'GLN', 'ALA', 'CYS', 'GLY', 'CYS', 'CYS', 'ASP', 'PHE', 'VAL', 'THR', 'ASN', 'ARG', 'ALA', 'TYR', 'ALA', 'ILE', 'ALA', 'SER', 'SER', 'SER', 'PHE', 'TRP', 'PHE', 'PHE', 'VAL', 'ASN', 'ILE', 'VAL', 'ASN', 'VAL', 'VAL', 'PRO', 'ASP', 'TRP', 'LEU', 'PHE', 'VAL', 'ALA', 'PHE', 'ASN', 'TRP', 'TYR']\n",
      "['SER', 'TYR', 'ILE', 'GLU', 'ALA', 'PHE', 'ALA', 'ILE', 'ALA', 'ILE', 'SER', 'THR', 'GLY', 'PHE', 'ILE', 'ALA', 'VAL', 'LEU', 'VAL', 'THR', 'ALA', 'SER', 'ILE', 'ILE', 'ASN', 'LYS', 'LYS', 'GLN', 'ALA', 'CYS', 'LEU', 'PHE', 'GLU', 'ASP', 'VAL', 'MET', 'MET', 'ASN', 'PHE', 'CYS', 'VAL', 'TRP', 'LEU', 'HIS', 'ASN', 'THR', 'HIS', 'ALA', 'PRO', 'LEU', 'TRP', 'MET', 'TYR', 'ALA', 'ILE', 'VAL', 'SER', 'HIS']\n",
      "['TYR', 'GLU', 'ALA', 'PHE', 'ALA', 'ILE', 'ALA', 'ILE', 'SER', 'ILE', 'ALA', 'VAL', 'LEU', 'VAL', 'LEU', 'THR', 'ALA', 'SER', 'ILE', 'ILE', 'GLY', 'CYS', 'LEU', 'PHE', 'GLU', 'ASP', 'MET', 'TYR', 'MET', 'ASN', 'PHE', 'CYS', 'VAL', 'TRP', 'LEU', 'HIS', 'ILE', 'ASN', 'HIS', 'ALA', 'PRO', 'LEU', 'MET', 'TYR', 'ALA', 'ILE', 'VAL', 'SER', 'HIS']\n",
      "['THR', 'ALA', 'TYR', 'SER', 'LYS', 'GLY', 'SER', 'TRP', 'VAL', 'TYR', 'SER', 'GLN', 'TYR', 'SER', 'CYS', 'CYS', 'GLU', 'TYR']\n"
     ]
    },
    {
     "name": "stderr",
     "output_type": "stream",
     "text": [
      "C:\\Users\\prash\\AppData\\Local\\Packages\\PythonSoftwareFoundation.Python.3.7_qbz5n2kfra8p0\\LocalCache\\local-packages\\Python37\\site-packages\\Bio\\PDB\\PDBParser.py:399: PDBConstructionWarning: Ignoring unrecognized record 'END' at line 98\n",
      "  PDBConstructionWarning,\n",
      "C:\\Users\\prash\\AppData\\Local\\Packages\\PythonSoftwareFoundation.Python.3.7_qbz5n2kfra8p0\\LocalCache\\local-packages\\Python37\\site-packages\\Bio\\PDB\\PDBParser.py:399: PDBConstructionWarning: Ignoring unrecognized record 'END' at line 419\n",
      "  PDBConstructionWarning,\n",
      "C:\\Users\\prash\\AppData\\Local\\Packages\\PythonSoftwareFoundation.Python.3.7_qbz5n2kfra8p0\\LocalCache\\local-packages\\Python37\\site-packages\\Bio\\PDB\\PDBParser.py:399: PDBConstructionWarning: Ignoring unrecognized record 'END' at line 509\n",
      "  PDBConstructionWarning,\n"
     ]
    },
    {
     "name": "stdout",
     "output_type": "stream",
     "text": [
      "['TYR', 'PHE', 'ASN', 'MET', 'ASN', 'ALA', 'ILE', 'PHE', 'ILE', 'THR', 'LEU', 'CYS', 'MET', 'ALA', 'GLU', 'LYS', 'THR', 'LEU', 'VAL', 'ALA', 'LYS', 'LEU', 'VAL', 'ALA', 'ARG', 'ILE', 'PHE', 'HIS', 'CYS', 'CYS', 'GLN', 'CYS', 'THR', 'SER', 'VAL', 'GLU', 'THR', 'GLU', 'LEU', 'VAL', 'TYR', 'ALA', 'ILE', 'PHE', 'ALA', 'MET', 'LEU', 'SER', 'SER', 'VAL', 'MET', 'MET', 'LEU', 'VAL', 'ALA', 'TYR', 'GLY', 'ASN', 'GLY', 'PHE', 'ILE', 'PHE', 'LEU', 'LEU', 'ILE', 'MET', 'GLU', 'LYS', 'PHE', 'ILE', 'HIS', 'VAL', 'ILE', 'HIS', 'LEU', 'TYR']\n",
      "['TYR', 'SER', 'PHE', 'PRO', 'LEU', 'THR', 'LYS', 'ALA', 'ILE', 'SER', 'LEU', 'MET', 'MET', 'GLY', 'GLU', 'ASP', 'LYS', 'ILE', 'GLN', 'GLU', 'VAL', 'ALA', 'ILE', 'ARG', 'ILE', 'PHE', 'GLN', 'GLY', 'CYS', 'GLN', 'PHE', 'ARG', 'SER', 'VAL', 'GLU', 'ALA', 'VAL', 'GLU', 'ILE', 'VAL', 'HIS', 'ILE', 'ILE', 'TYR', 'THR', 'MET', 'LEU', 'ALA', 'SER', 'LEU', 'MET', 'VAL', 'LEU', 'ILE', 'SER', 'GLU', 'GLY', 'GLN', 'GLY', 'MET', 'PHE', 'LEU', 'LYS', 'SER', 'LEU', 'ARG', 'PRO', 'PHE', 'GLY', 'ASP', 'PHE', 'MET', 'GLU', 'LYS', 'PHE', 'HIS', 'VAL', 'LEU', 'LEU', 'GLN', 'VAL', 'ILE', 'LYS', 'MET', 'SER', 'LEU', 'HIS', 'PRO', 'LEU', 'LEU', 'GLN', 'GLU', 'ILE', 'TYR', 'LYS', 'LEU']\n",
      "['TYR', 'ASN', 'PHE', 'ASN', 'MET', 'THR', 'ALA', 'VAL', 'HIS', 'VAL', 'PHE', 'TYR', 'ARG', 'CYS', 'GLN', 'CYS', 'THR', 'THR', 'VAL', 'GLU', 'THR', 'ARG', 'GLU', 'HIS', 'ALA', 'ILE', 'PHE', 'ALA', 'MET', 'LEU', 'ALA', 'SER', 'ILE', 'VAL', 'ASN', 'GLY', 'LEU', 'LEU', 'VAL', 'ALA', 'ASN', 'GLY', 'SER', 'VAL', 'THR', 'PHE', 'LEU', 'LEU', 'PHE', 'ILE', 'ILE', 'GLU', 'PRO', 'LYS', 'PHE', 'ALA', 'HIS', 'MET', 'LEU', 'TYR']\n"
     ]
    },
    {
     "name": "stderr",
     "output_type": "stream",
     "text": [
      "C:\\Users\\prash\\AppData\\Local\\Packages\\PythonSoftwareFoundation.Python.3.7_qbz5n2kfra8p0\\LocalCache\\local-packages\\Python37\\site-packages\\Bio\\PDB\\PDBParser.py:399: PDBConstructionWarning: Ignoring unrecognized record 'END' at line 311\n",
      "  PDBConstructionWarning,\n",
      "C:\\Users\\prash\\AppData\\Local\\Packages\\PythonSoftwareFoundation.Python.3.7_qbz5n2kfra8p0\\LocalCache\\local-packages\\Python37\\site-packages\\Bio\\PDB\\PDBParser.py:399: PDBConstructionWarning: Ignoring unrecognized record 'END' at line 384\n",
      "  PDBConstructionWarning,\n",
      "C:\\Users\\prash\\AppData\\Local\\Packages\\PythonSoftwareFoundation.Python.3.7_qbz5n2kfra8p0\\LocalCache\\local-packages\\Python37\\site-packages\\Bio\\PDB\\PDBParser.py:399: PDBConstructionWarning: Ignoring unrecognized record 'END' at line 377\n",
      "  PDBConstructionWarning,\n"
     ]
    },
    {
     "name": "stdout",
     "output_type": "stream",
     "text": [
      "['TYR', 'ASN', 'PHE', 'ASN', 'MET', 'THR', 'LYS', 'ALA', 'ILE', 'LEU', 'GLU', 'VAL', 'TRP', 'LEU', 'ILE', 'HIS', 'VAL', 'PHE', 'TYR', 'ARG', 'CYS', 'GLN', 'CYS', 'THR', 'THR', 'VAL', 'GLU', 'THR', 'ARG', 'GLU', 'LEU', 'HIS', 'ALA', 'ILE', 'PHE', 'ALA', 'MET', 'LEU', 'ALA', 'SER', 'ILE', 'VAL', 'LEU', 'LEU', 'VAL', 'ALA', 'ASN', 'GLY', 'SER', 'GLY', 'VAL', 'THR', 'PHE', 'LEU', 'LEU', 'PHE', 'ILE', 'ILE', 'GLU', 'LYS', 'PHE', 'ASP', 'LEU', 'HIS', 'MET', 'LEU', 'LEU', 'TYR']\n",
      "['THR', 'TYR', 'ASP', 'PRO', 'THR', 'TYR', 'ALA', 'ASP', 'PHE', 'PHE', 'LEU', 'MET', 'LEU', 'PRO', 'HIS', 'LEU', 'ALA', 'ASP', 'LEU', 'VAL', 'SER', 'TYR', 'SER', 'ILE', 'LYS', 'ILE', 'VAL', 'ILE', 'MET', 'LEU', 'ARG', 'SER', 'ASN', 'GLN', 'SER', 'PHE', 'TRP', 'ASP', 'CYS', 'TYR', 'LYS', 'TYR', 'ASP', 'ASP', 'VAL', 'SER', 'LYS', 'ALA', 'GLY', 'HIS', 'THR', 'LEU', 'ILE', 'LEU', 'GLN', 'HIS', 'GLN', 'TYR', 'ARG', 'SER', 'LEU', 'SER', 'PHE', 'GLN', 'PRO', 'GLU', 'ASN', 'SER', 'MET', 'LYS', 'LEU', 'THR', 'VAL', 'LEU', 'PHE']\n",
      "['PRO', 'VAL', 'THR', 'ASN', 'ILE', 'CYS', 'GLN', 'ALA', 'ALA', 'ASP', 'GLN', 'LEU', 'TRP', 'ASN', 'GLU', 'LEU', 'LEU', 'ILE', 'ALA', 'SER', 'PHE', 'ARG', 'ILE', 'LEU', 'LEU', 'ALA', 'THR', 'VAL', 'ALA', 'VAL', 'GLY', 'ILE', 'PHE', 'ASP', 'VAL', 'LEU', 'ILE', 'GLY', 'LYS', 'CYS', 'LEU', 'GLU', 'HIS', 'LEU', 'PHE', 'THR', 'LEU']\n"
     ]
    },
    {
     "name": "stderr",
     "output_type": "stream",
     "text": [
      "C:\\Users\\prash\\AppData\\Local\\Packages\\PythonSoftwareFoundation.Python.3.7_qbz5n2kfra8p0\\LocalCache\\local-packages\\Python37\\site-packages\\Bio\\PDB\\PDBParser.py:399: PDBConstructionWarning: Ignoring unrecognized record 'END' at line 237\n",
      "  PDBConstructionWarning,\n",
      "C:\\Users\\prash\\AppData\\Local\\Packages\\PythonSoftwareFoundation.Python.3.7_qbz5n2kfra8p0\\LocalCache\\local-packages\\Python37\\site-packages\\Bio\\PDB\\PDBParser.py:399: PDBConstructionWarning: Ignoring unrecognized record 'END' at line 235\n",
      "  PDBConstructionWarning,\n",
      "C:\\Users\\prash\\AppData\\Local\\Packages\\PythonSoftwareFoundation.Python.3.7_qbz5n2kfra8p0\\LocalCache\\local-packages\\Python37\\site-packages\\Bio\\PDB\\PDBParser.py:399: PDBConstructionWarning: Ignoring unrecognized record 'END' at line 149\n",
      "  PDBConstructionWarning,\n",
      "C:\\Users\\prash\\AppData\\Local\\Packages\\PythonSoftwareFoundation.Python.3.7_qbz5n2kfra8p0\\LocalCache\\local-packages\\Python37\\site-packages\\Bio\\PDB\\PDBParser.py:399: PDBConstructionWarning: Ignoring unrecognized record 'END' at line 107\n",
      "  PDBConstructionWarning,\n"
     ]
    },
    {
     "name": "stdout",
     "output_type": "stream",
     "text": [
      "['PRO', 'VAL', 'THR', 'ASN', 'ILE', 'CYS', 'GLN', 'ALA', 'ALA', 'ASP', 'GLN', 'LEU', 'TRP', 'ASN', 'GLU', 'LEU', 'LEU', 'ILE', 'ALA', 'SER', 'PHE', 'SER', 'ARG', 'ILE', 'LEU', 'LEU', 'ALA', 'THR', 'VAL', 'ALA', 'VAL', 'GLY', 'ILE', 'PHE', 'ASP', 'VAL', 'LEU', 'ARG', 'ILE', 'LYS', 'CYS', 'LEU', 'GLU', 'HIS', 'LEU', 'PHE', 'THR', 'LEU']\n",
      "['ALA', 'ASP', 'LEU', 'LEU', 'VAL', 'ILE', 'LEU', 'LEU', 'ARG', 'ALA', 'GLY', 'TRP', 'ASN', 'GLU', 'ASN', 'ARG', 'GLY', 'LEU', 'LYS', 'CYS', 'LEU', 'GLU', 'HIS', 'LEU', 'PHE', 'PHE', 'PHE', 'LYS', 'LEU', 'ILE']\n",
      "['ARG', 'ALA', 'ILE', 'LEU', 'THR', 'GLY', 'LYS', 'LYS', 'SER', 'PRO', 'PHE', 'VAL', 'MET', 'ASN', 'LYS', 'ASP', 'GLY', 'LEU', 'GLY', 'PHE', 'THR']\n",
      "['TYR', 'PHE', 'PRO', 'LEU', 'THR', 'LYS', 'ALA', 'ALA', 'ILE', 'LEU', 'GLY', 'ILE', 'LYS', 'VAL', 'ALA', 'ILE', 'ARG', 'ILE', 'PHE', 'GLN', 'GLY', 'CYS', 'GLN', 'PHE', 'ARG', 'SER', 'VAL', 'GLU', 'ALA', 'VAL', 'GLU', 'ILE', 'VAL', 'ILE', 'ILE', 'TYR', 'THR', 'MET', 'LEU', 'ALA', 'SER', 'LEU', 'MET', 'VAL', 'LEU', 'ILE', 'SER', 'GLU', 'GLY', 'GLN', 'GLY', 'MET', 'LEU', 'LEU', 'PHE', 'PHE', 'MET', 'LYS', 'PHE', 'ASP', 'LEU', 'HIS']\n",
      "error\n"
     ]
    },
    {
     "name": "stderr",
     "output_type": "stream",
     "text": [
      "C:\\Users\\prash\\AppData\\Local\\Packages\\PythonSoftwareFoundation.Python.3.7_qbz5n2kfra8p0\\LocalCache\\local-packages\\Python37\\site-packages\\Bio\\PDB\\PDBParser.py:399: PDBConstructionWarning: Ignoring unrecognized record 'END' at line 322\n",
      "  PDBConstructionWarning,\n"
     ]
    },
    {
     "ename": "FileNotFoundError",
     "evalue": "[Errno 2] No such file or directory: 'Cavity/example/AA/MyExample/pdb3afr_1CJ_cavity_1.pdb'",
     "output_type": "error",
     "traceback": [
      "\u001b[1;31m---------------------------------------------------------------------------\u001b[0m",
      "\u001b[1;31mFileNotFoundError\u001b[0m                         Traceback (most recent call last)",
      "\u001b[1;32m~\\AppData\\Local\\Temp\\ipykernel_2460\\4254105584.py\u001b[0m in \u001b[0;36m<module>\u001b[1;34m\u001b[0m\n\u001b[0;32m     30\u001b[0m     \u001b[1;32mif\u001b[0m\u001b[1;33m(\u001b[0m\u001b[1;32mnot\u001b[0m \u001b[0mpath11_check\u001b[0m\u001b[1;33m.\u001b[0m\u001b[0mis_file\u001b[0m\u001b[1;33m(\u001b[0m\u001b[1;33m)\u001b[0m\u001b[1;33m)\u001b[0m \u001b[1;33m:\u001b[0m\u001b[1;33m\u001b[0m\u001b[1;33m\u001b[0m\u001b[0m\n\u001b[0;32m     31\u001b[0m         \u001b[0mprint\u001b[0m\u001b[1;33m(\u001b[0m\u001b[1;34m'error'\u001b[0m\u001b[1;33m)\u001b[0m\u001b[1;33m\u001b[0m\u001b[1;33m\u001b[0m\u001b[0m\n\u001b[1;32m---> 32\u001b[1;33m     \u001b[0mfile11\u001b[0m \u001b[1;33m=\u001b[0m \u001b[0mPDBParser\u001b[0m\u001b[1;33m(\u001b[0m\u001b[1;33m)\u001b[0m\u001b[1;33m.\u001b[0m\u001b[0mget_structure\u001b[0m\u001b[1;33m(\u001b[0m\u001b[1;34m'pdb'\u001b[0m \u001b[1;33m+\u001b[0m \u001b[0mpdb_name\u001b[0m\u001b[1;33m.\u001b[0m\u001b[0mlower\u001b[0m\u001b[1;33m(\u001b[0m\u001b[1;33m)\u001b[0m \u001b[1;33m+\u001b[0m \u001b[1;34m'_'\u001b[0m \u001b[1;33m+\u001b[0m \u001b[0mlig\u001b[0m  \u001b[1;33m+\u001b[0m \u001b[1;34m'_cavity_1.pdb'\u001b[0m\u001b[1;33m,\u001b[0m \u001b[0mpath11\u001b[0m\u001b[1;33m)\u001b[0m\u001b[1;33m\u001b[0m\u001b[1;33m\u001b[0m\u001b[0m\n\u001b[0m\u001b[0;32m     33\u001b[0m     \u001b[1;31m# read11 = file11.readlines()\u001b[0m\u001b[1;33m\u001b[0m\u001b[1;33m\u001b[0m\u001b[1;33m\u001b[0m\u001b[0m\n\u001b[0;32m     34\u001b[0m     \u001b[0minter_res_cavity\u001b[0m \u001b[1;33m=\u001b[0m \u001b[1;33m[\u001b[0m\u001b[1;33m]\u001b[0m\u001b[1;33m\u001b[0m\u001b[1;33m\u001b[0m\u001b[0m\n",
      "\u001b[1;32m~\\AppData\\Local\\Packages\\PythonSoftwareFoundation.Python.3.7_qbz5n2kfra8p0\\LocalCache\\local-packages\\Python37\\site-packages\\Bio\\PDB\\PDBParser.py\u001b[0m in \u001b[0;36mget_structure\u001b[1;34m(self, id, file)\u001b[0m\n\u001b[0;32m     94\u001b[0m             \u001b[0mself\u001b[0m\u001b[1;33m.\u001b[0m\u001b[0mstructure_builder\u001b[0m\u001b[1;33m.\u001b[0m\u001b[0minit_structure\u001b[0m\u001b[1;33m(\u001b[0m\u001b[0mid\u001b[0m\u001b[1;33m)\u001b[0m\u001b[1;33m\u001b[0m\u001b[1;33m\u001b[0m\u001b[0m\n\u001b[0;32m     95\u001b[0m \u001b[1;33m\u001b[0m\u001b[0m\n\u001b[1;32m---> 96\u001b[1;33m             \u001b[1;32mwith\u001b[0m \u001b[0mas_handle\u001b[0m\u001b[1;33m(\u001b[0m\u001b[0mfile\u001b[0m\u001b[1;33m)\u001b[0m \u001b[1;32mas\u001b[0m \u001b[0mhandle\u001b[0m\u001b[1;33m:\u001b[0m\u001b[1;33m\u001b[0m\u001b[1;33m\u001b[0m\u001b[0m\n\u001b[0m\u001b[0;32m     97\u001b[0m                 \u001b[0mlines\u001b[0m \u001b[1;33m=\u001b[0m \u001b[0mhandle\u001b[0m\u001b[1;33m.\u001b[0m\u001b[0mreadlines\u001b[0m\u001b[1;33m(\u001b[0m\u001b[1;33m)\u001b[0m\u001b[1;33m\u001b[0m\u001b[1;33m\u001b[0m\u001b[0m\n\u001b[0;32m     98\u001b[0m                 \u001b[1;32mif\u001b[0m \u001b[1;32mnot\u001b[0m \u001b[0mlines\u001b[0m\u001b[1;33m:\u001b[0m\u001b[1;33m\u001b[0m\u001b[1;33m\u001b[0m\u001b[0m\n",
      "\u001b[1;32mC:\\Program Files\\WindowsApps\\PythonSoftwareFoundation.Python.3.7_3.7.2544.0_x64__qbz5n2kfra8p0\\lib\\contextlib.py\u001b[0m in \u001b[0;36m__enter__\u001b[1;34m(self)\u001b[0m\n\u001b[0;32m    110\u001b[0m         \u001b[1;32mdel\u001b[0m \u001b[0mself\u001b[0m\u001b[1;33m.\u001b[0m\u001b[0margs\u001b[0m\u001b[1;33m,\u001b[0m \u001b[0mself\u001b[0m\u001b[1;33m.\u001b[0m\u001b[0mkwds\u001b[0m\u001b[1;33m,\u001b[0m \u001b[0mself\u001b[0m\u001b[1;33m.\u001b[0m\u001b[0mfunc\u001b[0m\u001b[1;33m\u001b[0m\u001b[1;33m\u001b[0m\u001b[0m\n\u001b[0;32m    111\u001b[0m         \u001b[1;32mtry\u001b[0m\u001b[1;33m:\u001b[0m\u001b[1;33m\u001b[0m\u001b[1;33m\u001b[0m\u001b[0m\n\u001b[1;32m--> 112\u001b[1;33m             \u001b[1;32mreturn\u001b[0m \u001b[0mnext\u001b[0m\u001b[1;33m(\u001b[0m\u001b[0mself\u001b[0m\u001b[1;33m.\u001b[0m\u001b[0mgen\u001b[0m\u001b[1;33m)\u001b[0m\u001b[1;33m\u001b[0m\u001b[1;33m\u001b[0m\u001b[0m\n\u001b[0m\u001b[0;32m    113\u001b[0m         \u001b[1;32mexcept\u001b[0m \u001b[0mStopIteration\u001b[0m\u001b[1;33m:\u001b[0m\u001b[1;33m\u001b[0m\u001b[1;33m\u001b[0m\u001b[0m\n\u001b[0;32m    114\u001b[0m             \u001b[1;32mraise\u001b[0m \u001b[0mRuntimeError\u001b[0m\u001b[1;33m(\u001b[0m\u001b[1;34m\"generator didn't yield\"\u001b[0m\u001b[1;33m)\u001b[0m \u001b[1;32mfrom\u001b[0m \u001b[1;32mNone\u001b[0m\u001b[1;33m\u001b[0m\u001b[1;33m\u001b[0m\u001b[0m\n",
      "\u001b[1;32m~\\AppData\\Local\\Packages\\PythonSoftwareFoundation.Python.3.7_qbz5n2kfra8p0\\LocalCache\\local-packages\\Python37\\site-packages\\Bio\\File.py\u001b[0m in \u001b[0;36mas_handle\u001b[1;34m(handleish, mode, **kwargs)\u001b[0m\n\u001b[0;32m     70\u001b[0m     \"\"\"\n\u001b[0;32m     71\u001b[0m     \u001b[1;32mtry\u001b[0m\u001b[1;33m:\u001b[0m\u001b[1;33m\u001b[0m\u001b[1;33m\u001b[0m\u001b[0m\n\u001b[1;32m---> 72\u001b[1;33m         \u001b[1;32mwith\u001b[0m \u001b[0mopen\u001b[0m\u001b[1;33m(\u001b[0m\u001b[0mhandleish\u001b[0m\u001b[1;33m,\u001b[0m \u001b[0mmode\u001b[0m\u001b[1;33m,\u001b[0m \u001b[1;33m**\u001b[0m\u001b[0mkwargs\u001b[0m\u001b[1;33m)\u001b[0m \u001b[1;32mas\u001b[0m \u001b[0mfp\u001b[0m\u001b[1;33m:\u001b[0m\u001b[1;33m\u001b[0m\u001b[1;33m\u001b[0m\u001b[0m\n\u001b[0m\u001b[0;32m     73\u001b[0m             \u001b[1;32myield\u001b[0m \u001b[0mfp\u001b[0m\u001b[1;33m\u001b[0m\u001b[1;33m\u001b[0m\u001b[0m\n\u001b[0;32m     74\u001b[0m     \u001b[1;32mexcept\u001b[0m \u001b[0mTypeError\u001b[0m\u001b[1;33m:\u001b[0m\u001b[1;33m\u001b[0m\u001b[1;33m\u001b[0m\u001b[0m\n",
      "\u001b[1;31mFileNotFoundError\u001b[0m: [Errno 2] No such file or directory: 'Cavity/example/AA/MyExample/pdb3afr_1CJ_cavity_1.pdb'"
     ]
    }
   ],
   "source": [
    "dic = {'ALA' : 'A',\n",
    "        'ARG' : 'R',\n",
    "        'ASN' : 'N', \n",
    "        'ASP' : 'D', \n",
    "        'ASX' : 'B', \n",
    "        'CYS' : 'C', \n",
    "        'GLU' : 'E', \n",
    "        'GLN' : 'Q', \n",
    "        'GLX' : 'Z',\n",
    "        'GLY' : 'G',\n",
    "        'HIS' : 'H',\n",
    "        'ILE' : 'I',\n",
    "        'LEU' : 'L',\n",
    "        'LYS' : 'K',\n",
    "        'MET' : 'M',\n",
    "        'PHE' : 'F',\n",
    "        'PRO' : 'P',\n",
    "        'SER' : 'S',\n",
    "        'THR' : 'T',\n",
    "        'TRP' : 'W',\n",
    "        'TYR' : 'Y',\n",
    "        'VAL' : 'V'}\n",
    "df = pd.read_csv(r'C:\\Users\\prash\\Desktop\\BioP\\IP_BioP\\fpocket_features.csv')\n",
    "count = 0\n",
    "for ind in df.index:\n",
    "    pdb_name = df['pdb'][ind][3 : 7]\n",
    "    lig = df['pdb'][ind][8 : -4]\n",
    "    path11 = 'Cavity/example/AA/MyExample/pdb' + pdb_name.lower() + '_' + lig  + '_cavity_1.pdb'\n",
    "    path11_check = Path('Cavity/example/AA/MyExample/pdb' + pdb_name.lower() + '_' + lig  + '_cavity_1.pdb')\n",
    "    if(not path11_check.is_file()) : \n",
    "        print('error')\n",
    "    file11 = PDBParser().get_structure('pdb' + pdb_name.lower() + '_' + lig  + '_cavity_1.pdb', path11) \n",
    "    # read11 = file11.readlines()\n",
    "    inter_res_cavity = []\n",
    "    model = file11[0]\n",
    "    for i in model.get_residues():\n",
    "        # inter_res_cavity += ' ' + str(i.get_id()[1])\n",
    "        inter_res_cavity.append(str(i.get_resname()))\n",
    "    print(inter_res_cavity)"
   ]
  },
  {
   "cell_type": "code",
   "execution_count": 11,
   "metadata": {},
   "outputs": [
    {
     "name": "stdout",
     "output_type": "stream",
     "text": [
      "3\n"
     ]
    }
   ],
   "source": [
    "read2 = file2.readlines()\n",
    "score2 = read2[1]\n",
    "read1 = file1.readlines()\n",
    "prev_line = ''\n",
    "pocket = -1\n",
    "for lines in read1:\n",
    "    if(lines == score2):\n",
    "        pocket = prev_line[7]\n",
    "        break\n",
    "    prev_line = lines\n",
    "print(pocket)\n",
    "file1.close()\n",
    "file2.close()"
   ]
  },
  {
   "cell_type": "code",
   "execution_count": 16,
   "metadata": {},
   "outputs": [
    {
     "name": "stdout",
     "output_type": "stream",
     "text": [
      "['238', '238', '239', '239', '239', '239', '239', '239', '239', '239', '239', '242', '242', '242', '242', '242', '242', '242', '243', '243', '243', '243', '244', '244', '244', '244', '244', '244', '244', '264', '264', '265', '265', '265', '265', '265', '265', '265', '266', '267', '267', '268', '268', '268', '268', '268', '268', '268', '268', '269', '269', '269', '269', '269', '269', '270', '270', '270', '271', '271', '271', '271', '271', '272', '272', '272', '272', '272', '273', '274', '274', '275', '275', '275', '275', '275', '275', '275', '275', '275', '276', '276', '276', '276', '276', '278', '278', '278', '278', '278', '278', '278', '279', '279', '279', '279', '279', '279', '279', '279', '280', '281', '281', '282', '282', '282', '282', '282', '282', '282', '282', '282', '282', '282', '283', '305', '305', '305', '305', '305', '305', '305', '305', '305', '305', '305', '305', '306', '306', '306', '306', '306', '306', '306', '306', '307', '307', '307', '307', '308', '308', '308', '309', '309', '309', '309', '309', '309', '309', '309', '310', '310', '310', '310', '310', '310', '310', '310', '311', '311', '311', '312', '312', '312', '312', '312', '312', '313', '313', '313', '313', '313', '313', '313', '313', '313', '313', '313', '314', '314', '314', '315', '315', '315', '315', '315', '315', '315', '315', '315', '315', '316', '316', '316', '316', '316', '316', '316', '316', '316', '316', '316', '317', '324', '324', '324', '324', '324', '324', '325', '325', '325', '325', '325', '326', '326', '326', '326', '326', '326', '326', '326', '327', '327', '327', '327', '328', '328', '332', '332', '332', '337', '337', '337', '337', '342', '342', '342', '342', '342', '342', '342', '343', '343', '343', '345', '345', '345', '345', '345', '345', '345', '345', '346', '346', '346', '346', '346', '346', '346', '346', '346', '346', '346', '347', '348', '349', '349', '349', '349', '349', '349', '349', '350', '364', '364', '364', '364', '364', '364', '367', '367', '367', '367', '368', '371', '371', '371', '371', '371', '428', '428', '429', '429', '431', '431', '432', '432', '432', '432', '432', '432', '433', '433', '433', '434', '435', '435', '435', '435', '435', '435', '435', '435', '435', '435', '436', '436', '436', '436', '436', '436', '436', '439', '439', '439', '439', '439', '439', '439', '451', '451', '451']\n",
      "333\n"
     ]
    }
   ],
   "source": [
    "path11 = 'Cavity/example/AA/MyExample/pdb' + pdb_name.lower() + '_' + lig  + '_cavity_1.pdb'\n",
    "file11 = open(path11, \"r\")\n",
    "read11 = file11.readlines()\n",
    "inter_res_cavity = []\n",
    "for lines in read11:\n",
    "    line = lines.split()\n",
    "    if lines[0: 4] == 'ATOM' or lines[0: 6] == 'ANISOU':\n",
    "        inter_res_cavity.append(line[5])\n",
    "        # intersection_list.append(lines)\n",
    "print(inter_res_cavity)\n",
    "file11.close()\n",
    "print(len(inter_res_cavity))"
   ]
  },
  {
   "cell_type": "code",
   "execution_count": 18,
   "metadata": {},
   "outputs": [
    {
     "name": "stdout",
     "output_type": "stream",
     "text": [
      "['346', '432', '313', '349', '239', '364', '243', '367', '316', '316', '364', '316', '244', '316', '239', '243', '243', '315', '312', '316', '316', '268', '342', '342', '342', '324', '268', '313', '275', '313', '309', '313', '309', '271', '271', '326', '315', '315', '318', '316', '316', '268', '243', '364', '312', '242', '242', '371', '371', '327', '342', '272', '310', '436', '265', '313', '306', '310', '432', '309', '305', '275', '278', '272', '271', '439', '432', '268', '349', '324', '349', '279', '306', '432', '435', '312', '272', '275', '436', '345', '346', '435', '275', '436', '269', '346', '279', '282', '309']\n",
      "89\n"
     ]
    }
   ],
   "source": [
    "## -8\n",
    "inter_res_fpocket = []\n",
    "path3 = 'fpocket/data/sample/' + pdb_name + '_out/pockets/pocket' + pocket + '_atm.pdb'\n",
    "file3 = open(path3, 'r')\n",
    "read3 = file3.readlines()\n",
    "for lines in read3:\n",
    "    line = lines.split()\n",
    "    if lines[0: 4] == 'ATOM' or lines[0: 6] == 'ANISOU':\n",
    "        inter_res_fpocket.append(line[5])\n",
    "print(inter_res_fpocket)\n",
    "file3.close()\n",
    "print(len(inter_res_fpocket))"
   ]
  },
  {
   "cell_type": "code",
   "execution_count": 87,
   "metadata": {},
   "outputs": [],
   "source": [
    "dest_path = 'Intersection_Cavity_Fpocket/' + '3r5n_mlo.pdb'\n",
    "dest_file = open(dest_path, 'w')\n",
    "dest_file.writelines(intersection_list)\n",
    "dest_file.close()"
   ]
  },
  {
   "cell_type": "code",
   "execution_count": null,
   "metadata": {},
   "outputs": [],
   "source": [
    "# finding intersection\n",
    "from pathlib import Path\n",
    "import pandas as pd\n",
    "from Bio import *\n",
    "from Bio.PDB.PDBParser import PDBParser\n",
    "from Bio.PDB.Polypeptide import PPBuilder\n",
    "\n",
    "\n",
    "df = pd.read_excel(r'C:\\Users\\prash\\Desktop\\BioP\\IP_BioP\\pairwise_smiles.xlsx', usecols='E, I')\n",
    "count = 0\n",
    "for ind in df.index:\n",
    "    pdb_id = df['PDB_ID'][ind]\n",
    "    ligands = df['COMPOUND_IDS'][ind][1 : -1].split(', ' )\n",
    "    for ligand in ligands:\n",
    "        pdb_name = pdb_id.lower()\n",
    "        lig = ligand[1 : -1]\n",
    "        file1 = open('fpocket/data/sample/' + pdb_name + '_' + lig + '_out/' + pdb_name + '_' + lig +  '_info.txt',\"r\")\n",
    "        path2 = Path('fpocket/data/sample/pdb' + pdb_name.lower() + '_' + lig  + '_out/pdb' + pdb_name.lower() + '_' + lig + '_info.txt')\n",
    "        if(not path2.is_file()) : continue\n",
    "        file2 = open('fpocket/data/sample/pdb' + pdb_name.lower() + '_' + lig  + '_out/pdb' + pdb_name.lower() + '_' + lig + '_info.txt',\"r\")\n",
    "        read2 = file2.readlines()\n",
    "        score2 = read2[1]\n",
    "        read1 = file1.readlines()\n",
    "        prev_line = ''\n",
    "        pocket = -1\n",
    "        for lines in read1:\n",
    "            if(lines == score2):\n",
    "                pocket = prev_line[7]\n",
    "                break\n",
    "            prev_line = lines\n",
    "        # print('pocket number in fpocket is : ', pocket, pdb_id, lig)\n",
    "        file1.close()\n",
    "        file2.close()\n",
    "        if(pocket == -1) : \n",
    "            print('pocket dont match', pdb_id, lig)\n",
    "            continue\n",
    "\n",
    "        path11 = 'Cavity/example/AA/MyExample/pdb' + pdb_name.lower() + '_' + lig  + '_cavity_1.pdb'\n",
    "        path11_check = Path('Cavity/example/AA/MyExample/pdb' + pdb_name.lower() + '_' + lig  + '_cavity_1.pdb')\n",
    "        if(not path11_check.is_file()) : continue\n",
    "        file11 = PDBParser().get_structure('pdb' + pdb_name.lower() + '_' + lig  + '_cavity_1.pdb', path11) \n",
    "        # read11 = file11.readlines()\n",
    "        inter_res_cavity = ''\n",
    "        model = file11[0]\n",
    "        for i in model.get_residues():\n",
    "            inter_res_cavity += ' ' + str(i.get_id()[1])\n",
    "        # print(inter_res_cavity)\n",
    "        # print(len(inter_res_cavity))\n",
    "        \n",
    "\n",
    "\n",
    "        ## -8\n",
    "        inter_res_fpocket = ''\n",
    "        path3 = 'fpocket/data/sample/' + pdb_name + '_' + lig + '_out/pockets/pocket' + pocket + '_atm.pdb'\n",
    "        file3 = PDBParser().get_structure(pdb_name.lower() + '_' + lig  + '_out/pockets/pocket' + pocket + '_atm.pdb', path3) \n",
    "        model = file3[0]\n",
    "        for i in model.get_residues():\n",
    "            inter_res_fpocket += ' ' + str(i.get_id()[1])\n",
    "\n",
    "        # if(lig == 'JZR') : \n",
    "        #     print(inter_res_cavity)\n",
    "        #     print(inter_res_fpocket)\n",
    "            \n",
    "        inter_path = 'Intersection_Cavity_Fpocket/' + pdb_id + '_' + lig + '_info.txt'\n",
    "        inter_open = open(inter_path, 'w')\n",
    "        message = [inter_res_cavity + '\\n' + inter_res_fpocket + '\\n']\n",
    "        inter_open.writelines(message)\n",
    "        inter_open.close()\n",
    "\n",
    "    count += 1\n",
    "    if count >= 16 : break\n",
    "\n",
    "\n"
   ]
  },
  {
   "cell_type": "code",
   "execution_count": 50,
   "metadata": {},
   "outputs": [
    {
     "data": {
      "text/plain": [
       "0.65"
      ]
     },
     "execution_count": 50,
     "metadata": {},
     "output_type": "execute_result"
    }
   ],
   "source": [
    "round(0.647, 2)"
   ]
  },
  {
   "cell_type": "code",
   "execution_count": 66,
   "metadata": {},
   "outputs": [
    {
     "name": "stdout",
     "output_type": "stream",
     "text": [
      "560\n"
     ]
    }
   ],
   "source": [
    "## Finding intersection new\n",
    "## drug score = 30\n",
    "## flex = 24\n",
    "## nb_AS = 11\n",
    "\n",
    "from pathlib import Path\n",
    "import pandas as pd\n",
    "from Bio import *\n",
    "from Bio.PDB.PDBParser import PDBParser\n",
    "from Bio.PDB.Polypeptide import PPBuilder\n",
    "import matplotlib.pyplot as plt\n",
    "from matplotlib_venn import venn2\n",
    "\n",
    "df = pd.read_excel(r'C:\\Users\\prash\\Desktop\\BioP\\IP_BioP\\pairwise_smiles.xlsx', usecols='E, I')\n",
    "file_not_found = 'Intersection_Cavity_Fpocket/not_found.txt'\n",
    "open_not_found = open(file_not_found, 'w')\n",
    "message_not_found = []\n",
    "ind_curr = 1\n",
    "ind_prev = 0\n",
    "for ind in df.index:\n",
    "    pdb_id = df['PDB_ID'][ind]\n",
    "    ligands = df['COMPOUND_IDS'][ind][1 : -1].split(', ' )\n",
    "    for ligand in ligands:\n",
    "        pdb_name = pdb_id.lower()\n",
    "        lig = ligand[1 : -1]\n",
    "        if(lig == '') : continue\n",
    "        search_term = 'fpocket/data/sample/dpocket_files/pdb' + pdb_id.lower() + '_' + lig + '_fp.txt'\n",
    "        file_fpocket_check = Path(search_term)\n",
    "        if(not file_fpocket_check.is_file()) : \n",
    "            message_not_found.append(pdb_name + ' ' + lig + '\\n')\n",
    "            continue\n",
    "\n",
    "        file_fpocket = open(search_term, \"r\")\n",
    "        read_fpocket = file_fpocket.readlines()\n",
    "        if(len(read_fpocket) < 2) : \n",
    "            message_not_found.append(pdb_name + ' ' + lig + '\\n')\n",
    "            continue\n",
    "        line_curr = read_fpocket[1].split()\n",
    "        drug_score = float(line_curr[30])\n",
    "        nb_As = int(line_curr[11])\n",
    "        # print(lig, drug_score, nb_As)\n",
    "        ind_curr += 1\n",
    "        ind_prev += 1\n",
    "        file_fpocket.close()\n",
    "\n",
    "        file_pocket_info = open('fpocket/data/sample/' + pdb_name + '_' + lig + '_out/' + pdb_name + '_' + lig +  '_info.txt',\"r\")\n",
    "        lines_pocket_info = file_pocket_info.readlines()\n",
    "        pocket = -1\n",
    "        for i in range(20):\n",
    "            if(21 * i >= len(lines_pocket_info)) : break\n",
    "            drug_score_info = float(lines_pocket_info[21 * i + 2].split()[-1])\n",
    "            nb_As_info = int(lines_pocket_info[21 * i + 3].split()[-1])\n",
    "            # print(drug_score_info + 0.01 , nb_As_info)\n",
    "            if((drug_score <= drug_score_info + 0.01 or drug_score >= drug_score_info - 0.01) and nb_As_info == nb_As) :\n",
    "                pocket = i\n",
    "                break\n",
    "        if(pocket == -1):\n",
    "            message_not_found.append(pdb_name + ' ' + lig + '\\n')\n",
    "            continue\n",
    "        \n",
    "        file_pocket_info.close()\n",
    "\n",
    "        ### finding pocket in both\n",
    "        path11 = 'Cavity/example/AA/MyExample/pdb' + pdb_name.lower() + '_' + lig  + '_cavity_1.pdb'\n",
    "        path11_check = Path('Cavity/example/AA/MyExample/pdb' + pdb_name.lower() + '_' + lig  + '_cavity_1.pdb')\n",
    "        if(not path11_check.is_file()) : \n",
    "            message_not_found.append(pdb_name + ' ' + lig + '\\n')\n",
    "            continue\n",
    "        file11 = PDBParser().get_structure('pdb' + pdb_name.lower() + '_' + lig  + '_cavity_1.pdb', path11) \n",
    "        # read11 = file11.readlines()\n",
    "        inter_res_cavity = []\n",
    "        model = file11[0]\n",
    "        for i in model.get_residues():\n",
    "            # inter_res_cavity += ' ' + str(i.get_id()[1])\n",
    "            inter_res_cavity.append(str(i.get_id()[1]))\n",
    "        # print(inter_res_cavity)\n",
    "        # print(len(inter_res_cavity))\n",
    "        \n",
    "\n",
    "\n",
    "        # -8\n",
    "        inter_res_fpocket = []\n",
    "        path3 = 'fpocket/data/sample/' + pdb_name + '_' + lig + '_out/pockets/pocket' + str(pocket) + '_atm.pdb'\n",
    "        file3 = PDBParser().get_structure(pdb_name.lower() + '_' + lig  + '_out/pockets/pocket' + str(pocket) + '_atm.pdb', path3) \n",
    "        model = file3[0]\n",
    "        for i in model.get_residues():\n",
    "            # inter_res_fpocket += ' ' + str(i.get_id()[1])\n",
    "            inter_res_fpocket.append(str(i.get_id()[1]))\n",
    "        # print(inter_res_fpocket)\n",
    "\n",
    "        inter_path = 'Intersection_Cavity_Fpocket/' + pdb_id + '_' + lig + '_info.txt'\n",
    "        # inter_open = open(inter_path, 'w')\n",
    "        # message = [inter_res_cavity + '\\n' + inter_res_fpocket + '\\n']\n",
    "        # inter_open.writelines(message)\n",
    "        # inter_open.close()\n",
    "\n",
    "        ##ploting venn\n",
    "        # inter_res_cavity = set(inter_res_cavity)\n",
    "        # inter_res_fpocket = set(inter_res_fpocket)\n",
    "        # venn2([inter_res_cavity, inter_res_fpocket], ('LigBuilder', 'Fpocket'))\n",
    "        # plt.title(pdb_id + '_' + lig)\n",
    "        # plt.savefig('Intersection_Cavity_Fpocket/' + pdb_id + '_' + lig + '.png')\n",
    "        # plt.close()\n",
    "\n",
    "    # print(ind) \n",
    "open_not_found.writelines(message_not_found)\n",
    "print(len(message_not_found))   \n",
    "open_not_found.close()\n"
   ]
  },
  {
   "cell_type": "code",
   "execution_count": null,
   "metadata": {},
   "outputs": [],
   "source": [
    "# changing .pdb to pdb.ent\n",
    "import os\n",
    "  \n",
    "# Folder Path\n",
    "src_path = r\"C:\\Users\\prash\\Desktop\\BioP\\IP_BioP\\Cavity\\example\\AA\\MyExample\"\n",
    "dest_path = r\"C:\\Users\\prash\\Desktop\\BioP\\IP_BioP\\fpocket\\data\\sample\"\n",
    "  \n",
    "# Change the directory\n",
    "os.chdir(src_path)\n",
    "  \n",
    "# Read text File\n",
    "  \n",
    "  \n",
    "def read_text_file(file_path):\n",
    "    with open(file_path, 'r') as f:\n",
    "        print(f.read())\n",
    "  \n",
    "\n",
    "# iterate through all file\n",
    "count = 0\n",
    "for file in os.listdir():\n",
    "    # Check whether file is in text format or not\n",
    "    if file.endswith(\".ent\"):\n",
    "        file_path = f\"{src_path}/{file}\"\n",
    "        file_open = open(file_path, 'r')\n",
    "        file_path_pdb = file[3:-4]\n",
    "        file_path_pdb = file_path_pdb + '.pdb'\n",
    "        file_path_pdb = f\"{dest_path}/{file_path_pdb}\"\n",
    "        file_open_pdb = open(file_path_pdb, 'w')\n",
    "        # call read text file function\n",
    "        lines_ent = file_open.readlines()\n",
    "        file_open_pdb.writelines(lines_ent)\n",
    "        count += 1\n",
    "        print(count)"
   ]
  },
  {
   "cell_type": "code",
   "execution_count": null,
   "metadata": {},
   "outputs": [],
   "source": [
    "# change any txt file through this script\n",
    "import pandas as pd\n",
    "df = pd.read_excel(r'C:\\Users\\prash\\Desktop\\BioP\\IP_BioP\\pairwise_smiles.xlsx', usecols='E, I')\n",
    "count = 0\n",
    "mess = []\n",
    "file_path = 'Cavity/example/PDB_ligand_file.txt'\n",
    "file_open = open(file_path, 'w')\n",
    "for ind in df.index:\n",
    "    pdb_id = df['PDB_ID'][ind]\n",
    "    ligands = df['COMPOUND_IDS'][ind][1 : -1].split(', ' )\n",
    "    for ligand in ligands:\n",
    "        lig = ligand[1 : -1]\n",
    "        if(lig == '') :\n",
    "            print('hell')\n",
    "            continue\n",
    "        mess.append('pdb' + pdb_id.lower() + '_' + lig + '.ent ' + pdb_id + '_' + lig + '.mol2\\n')\n",
    "    count += 1\n",
    "    print(count)\n",
    "    # if count >= 16 : break\n",
    "file_open.writelines(mess)\n",
    "file_open.close()"
   ]
  },
  {
   "cell_type": "code",
   "execution_count": null,
   "metadata": {},
   "outputs": [],
   "source": [
    "\n",
    "for file in os.listdir():\n",
    "    # Check whether file is in text format or not\n",
    "    if file.endswith(\".ent\"):\n",
    "        file_path = f\"{path}/{file}\"\n",
    "        file_open = open(file_path, 'r')\n",
    "        file_path_pdb = f\"{path}/{file[3:7]}\"\n",
    "        file_path_pdb = file_path_pdb + '.pdb'\n",
    "        file_open_pdb = open(file_path_pdb, 'w')\n",
    "        # call read text file function\n",
    "        lines_ent = file_open.readlines()\n",
    "        file_open_pdb.writelines(lines_ent)\n"
   ]
  },
  {
   "cell_type": "code",
   "execution_count": 85,
   "metadata": {},
   "outputs": [
    {
     "name": "stdout",
     "output_type": "stream",
     "text": [
      "True\n"
     ]
    }
   ],
   "source": [
    "## Making list of pdb that should be included.\n",
    "## Found 449/559 or 452\n",
    "df = pd.read_excel(r'C:\\Users\\prash\\Desktop\\BioP\\IP_BioP\\pairwise_smiles.xlsx')\n",
    "txt = ''\n",
    "file_path = 'Enter_File.txt'\n",
    "file_open = open(file_path, 'w')\n",
    "for ind in df.index:\n",
    "    pdb_id = df['PDB_ID'][ind]\n",
    "    ligands = df['COMPOUND_IDS'][ind][1 : -1].split(', ' )\n",
    "    label = df['Label'][ind]\n",
    "    ligf = 'x'\n",
    "    for i in range(1, 5):\n",
    "        if(df['Ligand'][ind][-i] == ','):\n",
    "            ligf = df['Ligand'][ind][-i + 1:]\n",
    "            break\n",
    "    if(ligf[-1] == 'x'):     \n",
    "        for ligand in ligands:\n",
    "            pdb_name = pdb_id.lower()\n",
    "            lig = ligand[1 : -1]\n",
    "            file = open('Intersection_Cavity_Fpocket/not_found.txt',\"r\")\n",
    "            read = file.readlines()\n",
    "            file.close()\n",
    "            found = False\n",
    "            search = pdb_id.lower() + ' ' + lig\n",
    "            for line in read:\n",
    "                if(line == search):\n",
    "                    found = True\n",
    "                    break\n",
    "            if(not found):\n",
    "                ligf = lig\n",
    "                break\n",
    "    file = open('Intersection_Cavity_Fpocket/not_found.txt',\"r\")\n",
    "    read = file.readlines()\n",
    "    file.close()\n",
    "    found = False\n",
    "    search = pdb_id.lower() + ' ' + ligf\n",
    "    for line in read:\n",
    "        if(line[0 : -1] == search):\n",
    "            found = True\n",
    "            break\n",
    "    if(pdb_id.lower() == '6dxg' and ligf == 'HGJ'): print(found)\n",
    "    if(not found):\n",
    "        if(len(ligf) > 2 and ligf != 'SO4' and ligf != 'NAG'): txt = txt + pdb_id.lower() + ' ' + ligf + ' ' + str(label) + '\\n'\n",
    "file_open.writelines(txt)\n",
    "file_open.close()"
   ]
  },
  {
   "cell_type": "code",
   "execution_count": 93,
   "metadata": {},
   "outputs": [
    {
     "name": "stdout",
     "output_type": "stream",
     "text": [
      "444\n",
      "[2, 4, 6, 7, 10, 11, 14, 16, 20, 25, 28, 33, 40, 44, 46, 52, 54, 60, 71, 81, 90, 102, 104, 106, 107, 110, 111, 112, 116, 117, 119, 120, 122, 123, 124, 126, 127, 129, 130, 131, 133, 134, 137, 139, 142, 145, 150, 155, 156, 161, 162, 169, 172, 179, 185, 192, 194, 196, 205, 206, 208, 209, 211, 213, 214, 221, 222, 225, 226, 230, 236, 237, 240, 241, 244, 245, 249, 252, 254, 256, 258, 259, 263, 264, 265, 271, 273, 275, 276, 278, 279, 281, 282, 283, 293, 295, 297, 303, 319, 321, 322, 326, 337, 339, 340, 343, 344, 345, 347, 350, 351, 353, 357, 361, 371, 374, 380, 381, 384, 388, 389, 394, 395, 400, 402, 408, 410, 413, 416, 417, 418, 419, 422, 423, 424, 425, 427, 428, 429, 430, 431, 434, 435, 436, 438, 440, 443, 444, 451, 453, 454, 456, 458, 459, 461, 463, 464, 466, 467, 468, 472, 474, 476, 478, 482, 484, 486, 487, 489, 491, 492, 494, 502, 504, 507, 508, 511, 512, 513, 514, 515, 518, 519, 521, 523, 524, 525, 526, 529, 534, 537, 539, 540, 542, 543, 547, 549, 551, 552, 553, 554, 555, 559, 561, 565, 575, 579, 584, 589, 593, 596, 597, 606, 608, 609, 611, 613, 617, 619, 620, 621, 622, 623, 625, 626, 627, 629, 631, 635, 636, 637, 638, 641, 642, 645, 646, 654, 656, 657, 658, 659, 663, 664, 666, 669, 670, 676, 680, 681, 683, 685, 687, 688, 691, 694, 698]\n"
     ]
    }
   ],
   "source": [
    "df = pd.read_csv(r'C:\\Users\\prash\\Desktop\\BioP\\IP_BioP\\fpocket_features.csv')\n",
    "indf = []\n",
    "for ind in df.index:\n",
    "    inden = -1\n",
    "    for i in range(20):\n",
    "        if(df['pdb'][ind][i] == '_') : \n",
    "            inden = i\n",
    "            break\n",
    "    pdb_id = df['pdb'][ind][3 : inden]\n",
    "    lig = df['pdb'][ind][inden + 1 : -4]\n",
    "    file = open('Enter_file.txt',\"r\")\n",
    "    read = file.readlines()\n",
    "    file.close()\n",
    "    found = False\n",
    "    search = pdb_id.lower() + ' ' + lig\n",
    "    for line in read:\n",
    "        if(line[0 : -3] == search):\n",
    "            found = True\n",
    "            break\n",
    "    if(not found):\n",
    "        indf.append(ind)\n",
    "print(len(df) - len(indf))\n",
    "print(indf)\n",
    "df.drop(indf, axis=0, inplace=True)\n",
    "df.to_csv(r'C:\\Users\\prash\\Desktop\\BioP\\IP_BioP\\fpocket_features.csv')\n",
    "# print(df)"
   ]
  },
  {
   "cell_type": "code",
   "execution_count": 3,
   "metadata": {},
   "outputs": [
    {
     "name": "stdout",
     "output_type": "stream",
     "text": [
      "444\n",
      "[]\n",
      "['0', '1', '1', '1', '1', '1', '1', '0', '1', '1', '1', '1', '1', '1', '1', '1', '1', '1', '1', '1', '1', '0', '1', '1', '1', '1', '1', '1', '1', '1', '1', '1', '1', '0', '1', '1', '1', '1', '1', '1', '1', '1', '1', '1', '1', '0', '1', '0', '0', '1', '1', '1', '1', '0', '1', '0', '1', '0', '0', '1', '1', '1', '1', '1', '1', '1', '1', '1', '1', '1', '1', '1', '1', '1', '1', '1', '1', '1', '1', '1', '0', '1', '0', '1', '1', '1', '1', '1', '1', '1', '1', '1', '1', '1', '1', '0', '1', '1', '1', '1', '0', '1', '1', '0', '1', '1', '1', '1', '1', '1', '1', '1', '1', '1', '1', '1', '1', '1', '1', '1', '1', '1', '1', '1', '1', '0', '1', '1', '1', '1', '1', '1', '1', '1', '1', '1', '1', '1', '0', '1', '1', '1', '1', '1', '1', '1', '1', '1', '1', '1', '1', '1', '0', '1', '1', '1', '1', '1', '1', '1', '1', '1', '1', '1', '1', '0', '0', '0', '0', '1', '0', '1', '1', '1', '1', '0', '1', '0', '0', '1', '1', '1', '1', '1', '0', '1', '0', '1', '1', '0', '1', '1', '1', '1', '0', '0', '1', '1', '1', '1', '1', '1', '1', '1', '1', '0', '0', '0', '0', '0', '0', '1', '1', '0', '1', '1', '1', '1', '1', '1', '1', '1', '1', '0', '1', '1', '0', '0', '0', '0', '0', '1', '1', '1', '1', '1', '1', '1', '1', '1', '1', '1', '0', '1', '1', '0', '1', '1', '0', '1', '1', '0', '1', '1', '1', '1', '1', '1', '1', '1', '1', '1', '1', '1', '1', '1', '1', '1', '1', '1', '1', '1', '1', '1', '1', '1', '1', '1', '1', '0', '0', '0', '0', '0', '0', '0', '0', '0', '0', '0', '0', '0', '0', '0', '0', '0', '0', '0', '0', '0', '0', '0', '1', '0', '0', '0', '0', '0', '0', '1', '1', '1', '1', '1', '1', '1', '1', '1', '0', '1', '1', '0', '0', '1', '1', '0', '1', '1', '1', '0', '1', '1', '0', '0', '0', '1', '0', '1', '0', '0', '0', '0', '1', '1', '1', '1', '0', '0', '0', '1', '1', '1', '1', '0', '1', '1', '1', '0', '0', '1', '1', '0', '1', '1', '1', '1', '1', '1', '1', '1', '1', '1', '1', '1', '1', '0', '1', '1', '1', '0', '1', '1', '1', '1', '0', '0', '1', '1', '1', '0', '1', '1', '0', '0', '1', '1', '1', '1', '0', '0', '0', '0', '1', '1', '1', '0', '0', '0', '1', '1', '1', '0', '0', '1', '1', '1', '1', '1', '1', '1', '1', '1', '1', '0', '1', '1', '1', '1', '1', '1', '1', '0', '1', '1', '1', '0', '0', '1', '0', '1', '1', '1', '1', '0']\n"
     ]
    }
   ],
   "source": [
    "df = pd.read_csv(r'C:\\Users\\prash\\Desktop\\BioP\\IP_BioP\\cavity_features.csv')\n",
    "indf = []\n",
    "lab = []\n",
    "for ind in df.index:\n",
    "    inden = -1\n",
    "    for i in range(20):\n",
    "        if(df['Name'][ind][i] == '_') : \n",
    "            inden = i\n",
    "            break\n",
    "    pdb_id = df['Name'][ind][3 : inden]\n",
    "    lig = df['Name'][ind][inden + 1 :]\n",
    "    file = open('Enter_file.txt',\"r\")\n",
    "    read = file.readlines()\n",
    "    file.close()\n",
    "    found = False\n",
    "    search = pdb_id.lower() + ' ' + lig\n",
    "    for line in read:\n",
    "        if(line[0 : -3] == search):\n",
    "            found = True\n",
    "            break\n",
    "    if(not found):\n",
    "        indf.append(ind)\n",
    "    else:\n",
    "        lab.append(line[-2])\n",
    "print(len(df) - len(indf))\n",
    "print(indf)\n",
    "print(lab)\n",
    "# df.drop(indf, axis=0, inplace=True)\n",
    "# df.to_csv(r'C:\\Users\\prash\\Desktop\\BioP\\IP_BioP\\cavity_features.csv')"
   ]
  }
 ],
 "metadata": {
  "kernelspec": {
   "display_name": "Python 3",
   "language": "python",
   "name": "python3"
  },
  "language_info": {
   "codemirror_mode": {
    "name": "ipython",
    "version": 3
   },
   "file_extension": ".py",
   "mimetype": "text/x-python",
   "name": "python",
   "nbconvert_exporter": "python",
   "pygments_lexer": "ipython3",
   "version": "3.7.9"
  },
  "orig_nbformat": 4,
  "vscode": {
   "interpreter": {
    "hash": "db295645f7e7cb3306c99ee0423b8006da002e3112b909aff4cf6ac215eee698"
   }
  }
 },
 "nbformat": 4,
 "nbformat_minor": 2
}
